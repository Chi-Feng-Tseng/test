{
 "cells": [
  {
   "cell_type": "markdown",
   "id": "a694ef4c",
   "metadata": {},
   "source": [
    "https://www.perplexity.ai/search/0ead468a-cad0-4bd6-8c76-b23fcd5773f4"
   ]
  },
  {
   "cell_type": "code",
   "execution_count": null,
   "id": "2130044c",
   "metadata": {},
   "outputs": [
    {
     "data": {
      "text/plain": [
       "[1, 3, 5, 7, 9, 2, 4, 6, 8, 10]"
      ]
     },
     "execution_count": 1,
     "metadata": {},
     "output_type": "execute_result"
    }
   ],
   "source": [
    "odd = [1, 3, 5, 7, 9]\n",
    "even = [2, 4, 6, 8, 10]\n",
    "\n",
    "#list使用'+'運算式\n",
    "#list的加法是元素數量相加\n",
    "odd + even\n",
    "\n",
    "#如果要對元素作用，必須取出元素，例如用 for in 迴圈"
   ]
  },
  {
   "cell_type": "code",
   "execution_count": 6,
   "id": "08a1e2a6",
   "metadata": {},
   "outputs": [
    {
     "data": {
      "text/plain": [
       "array([1, 1, 1, 1, 1])"
      ]
     },
     "execution_count": 6,
     "metadata": {},
     "output_type": "execute_result"
    }
   ],
   "source": [
    "import numpy as np\n",
    "\n",
    "odd_array = np.array(odd)\n",
    "even_array = np.array(even)\n",
    "\n",
    "#ndarray使用'+'運算式\n",
    "#ndarray >可以做陣列運算，就可以省略 for in 迴圈\n",
    "odd_array + even_array\n",
    "odd_array * even_array\n",
    "odd_array / even_array\n",
    "even_array - odd_array\n"
   ]
  },
  {
   "cell_type": "code",
   "execution_count": null,
   "id": "844a3719",
   "metadata": {},
   "outputs": [
    {
     "data": {
      "text/plain": [
       "array([1. , 1.6, 2.2, 2.8, 3.4, 4. , 4.6, 5.2])"
      ]
     },
     "execution_count": 10,
     "metadata": {},
     "output_type": "execute_result"
    }
   ],
   "source": [
    "np.arange(5)\n",
    "np.arange(1,5)\n",
    "np.arange(1, 5.2, 0.6) #與range很像，只是arange可以有小數點"
   ]
  },
  {
   "cell_type": "code",
   "execution_count": 12,
   "id": "b217ea47",
   "metadata": {},
   "outputs": [
    {
     "data": {
      "text/plain": [
       "array([0.        , 0.02040816, 0.04081633, 0.06122449, 0.08163265,\n",
       "       0.10204082, 0.12244898, 0.14285714, 0.16326531, 0.18367347,\n",
       "       0.20408163, 0.2244898 , 0.24489796, 0.26530612, 0.28571429,\n",
       "       0.30612245, 0.32653061, 0.34693878, 0.36734694, 0.3877551 ,\n",
       "       0.40816327, 0.42857143, 0.44897959, 0.46938776, 0.48979592,\n",
       "       0.51020408, 0.53061224, 0.55102041, 0.57142857, 0.59183673,\n",
       "       0.6122449 , 0.63265306, 0.65306122, 0.67346939, 0.69387755,\n",
       "       0.71428571, 0.73469388, 0.75510204, 0.7755102 , 0.79591837,\n",
       "       0.81632653, 0.83673469, 0.85714286, 0.87755102, 0.89795918,\n",
       "       0.91836735, 0.93877551, 0.95918367, 0.97959184, 1.        ])"
      ]
     },
     "execution_count": 12,
     "metadata": {},
     "output_type": "execute_result"
    }
   ],
   "source": [
    "np.linspace(0,1,5)\n",
    "np.linspace(0,1,50)"
   ]
  }
 ],
 "metadata": {
  "kernelspec": {
   "display_name": "python2_4",
   "language": "python",
   "name": "python3"
  },
  "language_info": {
   "codemirror_mode": {
    "name": "ipython",
    "version": 3
   },
   "file_extension": ".py",
   "mimetype": "text/x-python",
   "name": "python",
   "nbconvert_exporter": "python",
   "pygments_lexer": "ipython3",
   "version": "3.11.13"
  }
 },
 "nbformat": 4,
 "nbformat_minor": 5
}

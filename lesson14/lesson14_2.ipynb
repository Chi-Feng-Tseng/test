{
 "cells": [
  {
   "cell_type": "markdown",
   "id": "15f2df7e",
   "metadata": {},
   "source": [
    "### ndarray的索引(index), 切割(slice)"
   ]
  },
  {
   "cell_type": "code",
   "execution_count": null,
   "id": "871cb516",
   "metadata": {},
   "outputs": [
    {
     "data": {
      "text/plain": [
       "np.int64(0)"
      ]
     },
     "execution_count": 5,
     "metadata": {},
     "output_type": "execute_result"
    }
   ],
   "source": [
    "import numpy as np\n",
    "\n",
    "arr = np.arange(10)\n",
    "arr[0]\n",
    "arr[-1]\n",
    "arr[:3]\n",
    "arr[-3:]\n"
   ]
  },
  {
   "cell_type": "code",
   "execution_count": null,
   "id": "470604ca",
   "metadata": {},
   "outputs": [
    {
     "data": {
      "text/plain": [
       "67"
      ]
     },
     "execution_count": 6,
     "metadata": {},
     "output_type": "execute_result"
    }
   ],
   "source": [
    "import  random\n",
    "random.randint(50, 100)  # 在50與99之間隨機取一個數字"
   ]
  },
  {
   "cell_type": "code",
   "execution_count": 17,
   "id": "6c6969da",
   "metadata": {},
   "outputs": [
    {
     "data": {
      "text/plain": [
       "(50, 5)"
      ]
     },
     "execution_count": 17,
     "metadata": {},
     "output_type": "execute_result"
    }
   ],
   "source": [
    "np.random.randint(50, 101 ,size = 5)\n",
    "scores = np.random.randint(50, 101 ,size = (50,5))\n",
    "scores.size\n",
    "scores.shape"
   ]
  },
  {
   "cell_type": "code",
   "execution_count": 18,
   "id": "0f06cc9a",
   "metadata": {},
   "outputs": [
    {
     "data": {
      "text/plain": [
       "array([[ 69],\n",
       "       [ 78],\n",
       "       [ 94],\n",
       "       [ 96],\n",
       "       [ 89],\n",
       "       [ 74],\n",
       "       [ 91],\n",
       "       [ 59],\n",
       "       [ 57],\n",
       "       [ 88],\n",
       "       [ 84],\n",
       "       [ 70],\n",
       "       [ 85],\n",
       "       [ 91],\n",
       "       [ 71],\n",
       "       [ 68],\n",
       "       [ 71],\n",
       "       [ 62],\n",
       "       [ 60],\n",
       "       [ 90],\n",
       "       [ 70],\n",
       "       [ 89],\n",
       "       [ 98],\n",
       "       [ 53],\n",
       "       [100],\n",
       "       [ 63],\n",
       "       [ 69],\n",
       "       [ 95],\n",
       "       [ 71],\n",
       "       [ 55],\n",
       "       [ 82],\n",
       "       [ 84],\n",
       "       [ 65],\n",
       "       [ 87],\n",
       "       [ 88],\n",
       "       [ 60],\n",
       "       [ 85],\n",
       "       [ 65],\n",
       "       [ 90],\n",
       "       [ 89],\n",
       "       [ 63],\n",
       "       [ 61],\n",
       "       [ 62],\n",
       "       [ 80],\n",
       "       [ 97],\n",
       "       [ 53],\n",
       "       [ 62],\n",
       "       [ 59],\n",
       "       [ 63],\n",
       "       [ 64]], dtype=int32)"
      ]
     },
     "execution_count": 18,
     "metadata": {},
     "output_type": "execute_result"
    }
   ],
   "source": [
    "scores[:,0]\n",
    "scores[:,0:1]"
   ]
  },
  {
   "cell_type": "code",
   "execution_count": 19,
   "id": "f4e2a4f5",
   "metadata": {},
   "outputs": [
    {
     "data": {
      "text/plain": [
       "array([[69, 81, 57, 87, 64]], dtype=int32)"
      ]
     },
     "execution_count": 19,
     "metadata": {},
     "output_type": "execute_result"
    }
   ],
   "source": [
    "scores[0,:]\n",
    "scores[0:1,:]"
   ]
  },
  {
   "cell_type": "code",
   "execution_count": 20,
   "id": "73394fb7",
   "metadata": {},
   "outputs": [
    {
     "data": {
      "text/plain": [
       "array([358, 367, 447, 376, 400, 355, 427, 327, 346, 433, 399, 328, 363,\n",
       "       370, 398, 365, 361, 415, 367, 382, 350, 428, 403, 362, 400, 344,\n",
       "       333, 403, 375, 305, 362, 373, 367, 382, 419, 373, 350, 410, 383,\n",
       "       384, 372, 421, 377, 402, 409, 379, 355, 378, 349, 355])"
      ]
     },
     "execution_count": 20,
     "metadata": {},
     "output_type": "execute_result"
    }
   ],
   "source": [
    "np.sum(scores,axis=1)  #計算每一位的總分"
   ]
  },
  {
   "cell_type": "code",
   "execution_count": null,
   "id": "a642df29",
   "metadata": {},
   "outputs": [
    {
     "data": {
      "text/plain": [
       "array([71.6, 73.4, 89.4, 75.2, 80. , 71. , 85.4, 65.4, 69.2, 86.6, 79.8,\n",
       "       65.6, 72.6, 74. , 79.6, 73. , 72.2, 83. , 73.4, 76.4, 70. , 85.6,\n",
       "       80.6, 72.4, 80. , 68.8, 66.6, 80.6, 75. , 61. , 72.4, 74.6, 73.4,\n",
       "       76.4, 83.8, 74.6, 70. , 82. , 76.6, 76.8, 74.4, 84.2, 75.4, 80.4,\n",
       "       81.8, 75.8, 71. , 75.6, 69.8, 71. ])"
      ]
     },
     "execution_count": 21,
     "metadata": {},
     "output_type": "execute_result"
    }
   ],
   "source": [
    "np.mean(scores, axis=1) #計算每一位的平均"
   ]
  },
  {
   "cell_type": "code",
   "execution_count": 28,
   "id": "a67f6df5",
   "metadata": {},
   "outputs": [
    {
     "data": {
      "text/plain": [
       "array([-0.85981412, -0.49025324,  0.09380945,  1.4604589 ,  0.48962235])"
      ]
     },
     "execution_count": 28,
     "metadata": {},
     "output_type": "execute_result"
    }
   ],
   "source": [
    "arr = np.random.randn(5)\n",
    "arr"
   ]
  },
  {
   "cell_type": "code",
   "execution_count": null,
   "id": "cd62c34c",
   "metadata": {},
   "outputs": [
    {
     "data": {
      "text/plain": [
       "array([False,  True, False, False,  True])"
      ]
     },
     "execution_count": 25,
     "metadata": {},
     "output_type": "execute_result"
    }
   ],
   "source": [
    "# 使用比較運算子\n",
    "arr = np.random.randn(5)\n",
    "arr > 0"
   ]
  },
  {
   "cell_type": "code",
   "execution_count": 26,
   "id": "afe6eee7",
   "metadata": {},
   "outputs": [
    {
     "data": {
      "text/plain": [
       "array([0, 1, 0, 0, 1])"
      ]
     },
     "execution_count": 26,
     "metadata": {},
     "output_type": "execute_result"
    }
   ],
   "source": [
    "np.where(arr > 0, 1,0)  #如果是true就傳1, false就傳2"
   ]
  },
  {
   "cell_type": "code",
   "execution_count": null,
   "id": "fc8ac360",
   "metadata": {},
   "outputs": [
    {
     "data": {
      "text/plain": [
       "array([-1.04030664,  1.        , -1.69553428, -0.61500915,  1.        ])"
      ]
     },
     "execution_count": 27,
     "metadata": {},
     "output_type": "execute_result"
    }
   ],
   "source": [
    "np.where(arr > 0, 1, arr)  #如果是true就傳1, false就傳出arr數值數值"
   ]
  }
 ],
 "metadata": {
  "kernelspec": {
   "display_name": "python2_4",
   "language": "python",
   "name": "python3"
  },
  "language_info": {
   "codemirror_mode": {
    "name": "ipython",
    "version": 3
   },
   "file_extension": ".py",
   "mimetype": "text/x-python",
   "name": "python",
   "nbconvert_exporter": "python",
   "pygments_lexer": "ipython3",
   "version": "3.11.13"
  }
 },
 "nbformat": 4,
 "nbformat_minor": 5
}

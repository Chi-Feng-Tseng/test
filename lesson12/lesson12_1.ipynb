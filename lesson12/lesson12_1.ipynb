{
 "cells": [
  {
   "cell_type": "markdown",
   "id": "cc144ef3",
   "metadata": {},
   "source": [
    "### 下載台北市youbike的即時資料\n",
    "https://www.perplexity.ai/search/python-requests-ru-he-jie-xi-j-gkLSjUSQQDK.fJHqhm0idQ"
   ]
  },
  {
   "cell_type": "code",
   "execution_count": 2,
   "id": "495cdb1a",
   "metadata": {},
   "outputs": [
    {
     "name": "stdout",
     "output_type": "stream",
     "text": [
      "下載成功\n"
     ]
    }
   ],
   "source": [
    "import requests\n",
    "from requests import Response\n",
    "from requests import HTTPError,ConnectionError,Timeout,RequestException,JSONDecodeError\n",
    "\n",
    "def fetch_json(url:str)->list[dict]:\n",
    "    try:\n",
    "        headers = {\n",
    "    'User-Agent': 'Mozilla/5.0 (Macintosh; Intel Mac OS X 10_15_7) AppleWebKit/537.36 (KHTML, like Gecko) Chrome/137.0.0.0 Safari/537.36'\n",
    "}\n",
    "        response:Response = requests.get(url,headers=headers)\n",
    "        response.raise_for_status()\n",
    "        print(\"下載成功\")\n",
    "        return response.json()\n",
    "    except HTTPError:\n",
    "        print(f\"警告：伺服器回應狀態碼為 {response.status_code}，請求未成功！\")\n",
    "    except ConnectionError:\n",
    "        print(\"網路連線異常，請檢查網路設定。\")\n",
    "    except Timeout:\n",
    "        print(\"請求逾時，請稍後再試。\")\n",
    "    except RequestException as e:\n",
    "        print(f\"請求發生錯誤：{e}\")\n",
    "    except JSONDecodeError:\n",
    "        print(f\"json格式錯誤\")\n",
    "    except Exception:\n",
    "        print(\"不知名的錯誤\")\n",
    "    \n",
    "url:str = 'https://tcgbusfs.blob.core.windows.net/dotapp/youbike/v2/youbike_immediate.json'\n",
    "data = fetch_json(url=url)"
   ]
  },
  {
   "cell_type": "code",
   "execution_count": 1,
   "id": "b50df832",
   "metadata": {},
   "outputs": [
    {
     "ename": "NameError",
     "evalue": "name 'data' is not defined",
     "output_type": "error",
     "traceback": [
      "\u001b[31m---------------------------------------------------------------------------\u001b[39m",
      "\u001b[31mNameError\u001b[39m                                 Traceback (most recent call last)",
      "\u001b[36mCell\u001b[39m\u001b[36m \u001b[39m\u001b[32mIn[1]\u001b[39m\u001b[32m, line 1\u001b[39m\n\u001b[32m----> \u001b[39m\u001b[32m1\u001b[39m \u001b[43mdata\u001b[49m\n",
      "\u001b[31mNameError\u001b[39m: name 'data' is not defined"
     ]
    }
   ],
   "source": [
    "data"
   ]
  }
 ],
 "metadata": {
  "kernelspec": {
   "display_name": "python2_4",
   "language": "python",
   "name": "python3"
  },
  "language_info": {
   "codemirror_mode": {
    "name": "ipython",
    "version": 3
   },
   "file_extension": ".py",
   "mimetype": "text/x-python",
   "name": "python",
   "nbconvert_exporter": "python",
   "pygments_lexer": "ipython3",
   "version": "3.11.13"
  }
 },
 "nbformat": 4,
 "nbformat_minor": 5
}

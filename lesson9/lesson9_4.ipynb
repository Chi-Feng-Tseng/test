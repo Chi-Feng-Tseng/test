{
 "cells": [
  {
   "cell_type": "markdown",
   "id": "fd4a7bb2",
   "metadata": {},
   "source": [
    "### dict實體方法"
   ]
  },
  {
   "cell_type": "code",
   "execution_count": 2,
   "id": "a7bf2356",
   "metadata": {},
   "outputs": [
    {
     "data": {
      "text/plain": [
       "dict"
      ]
     },
     "execution_count": 2,
     "metadata": {},
     "output_type": "execute_result"
    }
   ],
   "source": [
    "dict1 = {'one':1, 'two':2, 'three':3, 'four':4, 'five':5}\n",
    "type(dict1)"
   ]
  },
  {
   "cell_type": "code",
   "execution_count": null,
   "id": "7b397f56",
   "metadata": {},
   "outputs": [
    {
     "ename": "KeyError",
     "evalue": "'six'",
     "output_type": "error",
     "traceback": [
      "\u001b[0;31m---------------------------------------------------------------------------\u001b[0m",
      "\u001b[0;31mKeyError\u001b[0m                                  Traceback (most recent call last)",
      "Cell \u001b[0;32mIn[7], line 2\u001b[0m\n\u001b[1;32m      1\u001b[0m dict1[\u001b[38;5;124m'\u001b[39m\u001b[38;5;124mone\u001b[39m\u001b[38;5;124m'\u001b[39m]\n\u001b[0;32m----> 2\u001b[0m dict1[\u001b[38;5;124m'\u001b[39m\u001b[38;5;124msix\u001b[39m\u001b[38;5;124m'\u001b[39m]\n",
      "\u001b[0;31mKeyError\u001b[0m: 'six'"
     ]
    }
   ],
   "source": [
    "dict1['one']\n",
    "dict1['six']   #沒有six，所以會出錯\n"
   ]
  },
  {
   "cell_type": "code",
   "execution_count": 4,
   "id": "cdaf4305",
   "metadata": {},
   "outputs": [
    {
     "data": {
      "text/plain": [
       "{'one': 1, 'two': 2, 'three': 3, 'four': 4, 'five': 5}"
      ]
     },
     "execution_count": 4,
     "metadata": {},
     "output_type": "execute_result"
    }
   ],
   "source": [
    "dict1.get('one')\n",
    "dict1.get('six')\n",
    "dict1"
   ]
  },
  {
   "cell_type": "code",
   "execution_count": 12,
   "id": "670d2a55",
   "metadata": {},
   "outputs": [
    {
     "data": {
      "text/plain": [
       "dict_keys(['one', 'two', 'three', 'four', 'five'])"
      ]
     },
     "execution_count": 12,
     "metadata": {},
     "output_type": "execute_result"
    }
   ],
   "source": [
    "dict1.keys()\n",
    "\n"
   ]
  },
  {
   "cell_type": "code",
   "execution_count": 10,
   "id": "e33e631e",
   "metadata": {},
   "outputs": [
    {
     "name": "stdout",
     "output_type": "stream",
     "text": [
      "one\n",
      "two\n",
      "three\n",
      "four\n",
      "five\n"
     ]
    }
   ],
   "source": [
    "for key in dict1.keys():\n",
    "    print(key)"
   ]
  },
  {
   "cell_type": "code",
   "execution_count": 12,
   "id": "5615ac53",
   "metadata": {},
   "outputs": [
    {
     "name": "stdout",
     "output_type": "stream",
     "text": [
      "1\n",
      "2\n",
      "3\n",
      "4\n",
      "5\n"
     ]
    }
   ],
   "source": [
    "for value in dict1.values():\n",
    "    print(value)"
   ]
  },
  {
   "cell_type": "code",
   "execution_count": 13,
   "id": "91596f1c",
   "metadata": {},
   "outputs": [
    {
     "data": {
      "text/plain": [
       "dict_items([('one', 1), ('two', 2), ('three', 3), ('four', 4), ('five', 5)])"
      ]
     },
     "execution_count": 13,
     "metadata": {},
     "output_type": "execute_result"
    }
   ],
   "source": [
    "dict1.items()"
   ]
  },
  {
   "cell_type": "code",
   "execution_count": 13,
   "id": "febac4de",
   "metadata": {},
   "outputs": [
    {
     "name": "stdout",
     "output_type": "stream",
     "text": [
      "one\n",
      "1\n",
      "=======\n",
      "two\n",
      "2\n",
      "=======\n",
      "three\n",
      "3\n",
      "=======\n",
      "four\n",
      "4\n",
      "=======\n",
      "five\n",
      "5\n",
      "=======\n"
     ]
    }
   ],
   "source": [
    "for key,value in dict1.items():\n",
    "    print(key)\n",
    "    print(value)\n",
    "    print(\"=======\")"
   ]
  }
 ],
 "metadata": {
  "kernelspec": {
   "display_name": "python2_4",
   "language": "python",
   "name": "python3"
  },
  "language_info": {
   "codemirror_mode": {
    "name": "ipython",
    "version": 3
   },
   "file_extension": ".py",
   "mimetype": "text/x-python",
   "name": "python",
   "nbconvert_exporter": "python",
   "pygments_lexer": "ipython3",
   "version": "3.11.13"
  }
 },
 "nbformat": 4,
 "nbformat_minor": 5
}

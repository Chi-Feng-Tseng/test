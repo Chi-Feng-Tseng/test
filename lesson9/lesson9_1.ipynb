{
 "cells": [
  {
   "cell_type": "markdown",
   "id": "0863b950",
   "metadata": {},
   "source": [
    "### 自訂的dataclass"
   ]
  },
  {
   "cell_type": "code",
   "execution_count": 1,
   "id": "7e4e1f1e",
   "metadata": {},
   "outputs": [],
   "source": [
    "from dataclasses import dataclass\n",
    "\n",
    "@dataclass\n",
    "class Student:\n",
    "    name:str\n",
    "    chinese:int\n",
    "    english:int\n",
    "    math:int"
   ]
  },
  {
   "cell_type": "code",
   "execution_count": 11,
   "id": "1dab7ea5",
   "metadata": {},
   "outputs": [
    {
     "name": "stdout",
     "output_type": "stream",
     "text": [
      "<class '__main__.Student'>\n"
     ]
    },
    {
     "data": {
      "text/plain": [
       "('robert', 89, 78, 92)"
      ]
     },
     "execution_count": 11,
     "metadata": {},
     "output_type": "execute_result"
    }
   ],
   "source": [
    "stu1 = Student(name='robert',chinese=89, english=78, math=92)\n",
    "print(type(stu1))\n",
    "stu1.name, stu1.chinese, stu1.english, stu1.math"
   ]
  },
  {
   "cell_type": "code",
   "execution_count": 3,
   "id": "f003c3b9",
   "metadata": {},
   "outputs": [
    {
     "name": "stdout",
     "output_type": "stream",
     "text": [
      "<class '__main__.Student'>\n"
     ]
    },
    {
     "data": {
      "text/plain": [
       "('jenny', 76, 87, 89)"
      ]
     },
     "execution_count": 3,
     "metadata": {},
     "output_type": "execute_result"
    }
   ],
   "source": [
    "stu2 = Student(name='jenny',chinese=76, english=87, math=89)\n",
    "print(type(stu2))\n",
    "stu2.name, stu2.chinese, stu2.english, stu2.math"
   ]
  },
  {
   "cell_type": "code",
   "execution_count": 4,
   "id": "7b20e869",
   "metadata": {},
   "outputs": [],
   "source": [
    "from dataclasses import dataclass\n",
    "\n",
    "@dataclass\n",
    "class Student:\n",
    "    name:str\n",
    "    chinese:int\n",
    "    english:int\n",
    "    math:int\n",
    "\n",
    "    @property\n",
    "    def total(self)->int:\n",
    "        return self.chinese + self.english + self.math"
   ]
  },
  {
   "cell_type": "code",
   "execution_count": 5,
   "id": "ab2315ff",
   "metadata": {},
   "outputs": [
    {
     "name": "stdout",
     "output_type": "stream",
     "text": [
      "<class '__main__.Student'>\n",
      "robert 89 78 92\n",
      "259\n"
     ]
    }
   ],
   "source": [
    "stu1 = Student(name='robert',chinese=89, english=78, math=92)\n",
    "print(type(stu1))\n",
    "print(stu1.name, stu1.chinese, stu1.english, stu1.math)\n",
    "print(stu1.total)"
   ]
  },
  {
   "cell_type": "code",
   "execution_count": 6,
   "id": "51c9c7a4",
   "metadata": {},
   "outputs": [
    {
     "name": "stdout",
     "output_type": "stream",
     "text": [
      "<class '__main__.Student'>\n",
      "jenny 76 87 89\n",
      "252\n"
     ]
    }
   ],
   "source": [
    "stu2 = Student(name='jenny',chinese=76, english=87, math=89)\n",
    "print(type(stu2))\n",
    "print(stu2.name, stu2.chinese, stu2.english, stu2.math)\n",
    "print(stu2.total)"
   ]
  },
  {
   "cell_type": "code",
   "execution_count": null,
   "id": "853ab45f",
   "metadata": {},
   "outputs": [],
   "source": [
    "from dataclasses import dataclass\n",
    "\n",
    "@dataclass\n",
    "class Student:\n",
    "    name:str\n",
    "    chinese:int\n",
    "    english:int\n",
    "    math:int\n",
    "\n",
    "    @property\n",
    "    def total(self)->int:\n",
    "        return self.chinese + self.english + self.math\n",
    "    \n",
    "    def average(self)->float:\n",
    "        return self.total / 3.0   #兩種寫法\n",
    "        # return round(self.total / 3.0, ndigits = 2)   #可以查查round的使用說明書"
   ]
  },
  {
   "cell_type": "code",
   "execution_count": 8,
   "id": "157e065d",
   "metadata": {},
   "outputs": [
    {
     "name": "stdout",
     "output_type": "stream",
     "text": [
      "<class '__main__.Student'>\n",
      "robert 89 78 92\n",
      "259\n",
      "86.33\n"
     ]
    }
   ],
   "source": [
    "stu1 = Student(name='robert',chinese=89, english=78, math=92)\n",
    "print(type(stu1))\n",
    "print(stu1.name, stu1.chinese, stu1.english, stu1.math)\n",
    "print(stu1.total)\n",
    "print(stu1.average())"
   ]
  },
  {
   "cell_type": "code",
   "execution_count": 9,
   "id": "8ba10637",
   "metadata": {},
   "outputs": [
    {
     "name": "stdout",
     "output_type": "stream",
     "text": [
      "<class '__main__.Student'>\n",
      "jenny 76 87 89\n",
      "252\n",
      "84.0\n"
     ]
    }
   ],
   "source": [
    "stu2 = Student(name='jenny',chinese=76, english=87, math=89)\n",
    "print(type(stu2))\n",
    "print(stu2.name, stu2.chinese, stu2.english, stu2.math)\n",
    "print(stu2.total)\n",
    "print(stu2.average())"
   ]
  }
 ],
 "metadata": {
  "kernelspec": {
   "display_name": "python2_4",
   "language": "python",
   "name": "python3"
  },
  "language_info": {
   "codemirror_mode": {
    "name": "ipython",
    "version": 3
   },
   "file_extension": ".py",
   "mimetype": "text/x-python",
   "name": "python",
   "nbconvert_exporter": "python",
   "pygments_lexer": "ipython3",
   "version": "3.11.13"
  }
 },
 "nbformat": 4,
 "nbformat_minor": 5
}

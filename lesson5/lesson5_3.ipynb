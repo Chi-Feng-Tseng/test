{
 "cells": [
  {
   "cell_type": "markdown",
   "id": "141c97a8",
   "metadata": {},
   "source": [
    "### while"
   ]
  },
  {
   "cell_type": "code",
   "execution_count": 5,
   "id": "36293d06",
   "metadata": {},
   "outputs": [
    {
     "name": "stdout",
     "output_type": "stream",
     "text": [
      "恭喜！已經存了35000元\n"
     ]
    }
   ],
   "source": [
    "#小明想要存錢買一輛機車，機車每輛30000元，他將每月存的錢輸入，當存款足夠買機車時，就顯示訊息提示告知\n",
    "\n",
    "deposite = 0\n",
    "while(deposite < 30000):\n",
    "    input_value = int(input(\"請輸入月份的存款\"))\n",
    "    deposite += input_value\n",
    "\n",
    "print(f\"恭喜！已經存了{deposite}元\")"
   ]
  },
  {
   "cell_type": "code",
   "execution_count": null,
   "id": "c6ec6adb",
   "metadata": {},
   "outputs": [
    {
     "name": "stdout",
     "output_type": "stream",
     "text": [
      "恭喜！存了3個月,已經存了36000元\n"
     ]
    }
   ],
   "source": [
    "#不靈活的while迴圈\n",
    "#小明想要存錢買一輛機車，機車每輛30000元，他將每月存的錢輸入，當存款足夠買機車時，就顯示訊息提示告知\n",
    "\n",
    "deposite = 0\n",
    "month = 0\n",
    "while(deposite < 30000):\n",
    "    month += 1\n",
    "    input_value = int(input(f\"請輸入第{month}月份的存款\"))\n",
    "    deposite += input_value\n",
    "\n",
    "print(f\"恭喜！存了{month}個月,已經存了{deposite}元\")"
   ]
  },
  {
   "cell_type": "markdown",
   "id": "2fd59b2c",
   "metadata": {},
   "source": [
    "### 使用break, contiune"
   ]
  },
  {
   "cell_type": "code",
   "execution_count": 13,
   "id": "27c50506",
   "metadata": {},
   "outputs": [
    {
     "ename": "ValueError",
     "evalue": "invalid literal for int() with base 10: ''",
     "output_type": "error",
     "traceback": [
      "\u001b[0;31m---------------------------------------------------------------------------\u001b[0m",
      "\u001b[0;31mValueError\u001b[0m                                Traceback (most recent call last)",
      "Cell \u001b[0;32mIn[13], line 9\u001b[0m\n\u001b[1;32m      7\u001b[0m \u001b[38;5;28;01mif\u001b[39;00m value \u001b[38;5;241m==\u001b[39m\u001b[38;5;124m\"\u001b[39m\u001b[38;5;124mq\u001b[39m\u001b[38;5;124m\"\u001b[39m:\n\u001b[1;32m      8\u001b[0m     \u001b[38;5;28;01mbreak\u001b[39;00m\n\u001b[0;32m----> 9\u001b[0m \u001b[38;5;28;01melif\u001b[39;00m(\u001b[38;5;28mint\u001b[39m(value) \u001b[38;5;241m%\u001b[39m \u001b[38;5;241m2\u001b[39m \u001b[38;5;241m==\u001b[39m \u001b[38;5;241m0\u001b[39m):\n\u001b[1;32m     10\u001b[0m     contiune\n\u001b[1;32m     11\u001b[0m \u001b[38;5;28;01melse\u001b[39;00m:\n",
      "\u001b[0;31mValueError\u001b[0m: invalid literal for int() with base 10: ''"
     ]
    }
   ],
   "source": [
    "#奇數輸入平方\n",
    "#偶數不做任何動作\n",
    "#\"q\"要離開\n",
    "\n",
    "while(True):\n",
    "    value = input(\"請輸入整數,輸入[q]離開:\")\n",
    "    if value ==\"q\":\n",
    "        break\n",
    "    elif(int(value) % 2 == 0):\n",
    "        contiune\n",
    "    else:\n",
    "        print(f\"{value}的平方是{int(value)**2}\")\n",
    "print(\"應用程式結束\")"
   ]
  },
  {
   "cell_type": "code",
   "execution_count": 15,
   "id": "480ae7a4",
   "metadata": {},
   "outputs": [
    {
     "name": "stdout",
     "output_type": "stream",
     "text": [
      "5的平方是25\n",
      "應用程式結束\n"
     ]
    }
   ],
   "source": [
    "#老師的\n",
    "#奇數輸出平方\n",
    "#偶數不做任何動作\n",
    "#'q'要離開\n",
    "\n",
    "while(True):\n",
    "    value = input(\"請輸入整數,輸入[q]離開:\")\n",
    "    if value == \"q\":\n",
    "        break\n",
    "    elif(int(value) % 2 == 0):\n",
    "        continue\n",
    "    else:\n",
    "        print(f\"{value}的平方是{int(value)**2}\")\n",
    "print(\"應用程式結束\")"
   ]
  },
  {
   "cell_type": "code",
   "execution_count": 25,
   "id": "f05af1c9",
   "metadata": {},
   "outputs": [
    {
     "name": "stdout",
     "output_type": "stream",
     "text": [
      "84\n",
      "==============猜數字遊戲================\n",
      "\n",
      "再大一點\n",
      "您已經猜了1次\n",
      "再小一點\n",
      "您已經猜了2次\n",
      "再大一點\n",
      "您已經猜了3次\n",
      "再大一點\n",
      "您已經猜了4次\n",
      "再大一點\n",
      "您已經猜了5次\n",
      "再大一點\n",
      "您已經猜了6次\n",
      "再小一點\n",
      "您已經猜了7次\n",
      "再大一點\n",
      "您已經猜了8次\n",
      "再大一點\n",
      "您已經猜了9次\n",
      "賓果！猜對了，答案是:84\n",
      "您猜了10次\n",
      "遊戲結束\n"
     ]
    }
   ],
   "source": [
    "import random\n",
    "\n",
    "min = 1\n",
    "max = 99\n",
    "count = 0\n",
    "target = random.randint(min, max)\n",
    "print(target)\n",
    "print(\"==============猜數字遊戲================\\n\");\n",
    "while(True):\n",
    "    count +=1\n",
    "    keyin = int(input(f\"猜數字範圍{min}~{max}:\"))\n",
    "    if(keyin >= min and keyin <=max):\n",
    "        if(keyin == target):\n",
    "            print(f\"賓果！猜對了，答案是:{target}\")\n",
    "            print(f\"您猜了{count}次\")\n",
    "            break\n",
    "        elif(keyin > target):\n",
    "            print(\"再小一點\")\n",
    "            max = keyin - 1\n",
    "        elif(keyin < target):\n",
    "            print(\"再大一點\")\n",
    "            min = keyin + 1\n",
    "        print(f\"您已經猜了{count}次\")\n",
    "    else:\n",
    "        print(\"請輸入提示範圍內的數字\")\n",
    "print(\"遊戲結束\")\n"
   ]
  }
 ],
 "metadata": {
  "kernelspec": {
   "display_name": "base",
   "language": "python",
   "name": "python3"
  },
  "language_info": {
   "codemirror_mode": {
    "name": "ipython",
    "version": 3
   },
   "file_extension": ".py",
   "mimetype": "text/x-python",
   "name": "python",
   "nbconvert_exporter": "python",
   "pygments_lexer": "ipython3",
   "version": "3.12.7"
  }
 },
 "nbformat": 4,
 "nbformat_minor": 5
}

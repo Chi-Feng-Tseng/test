{
 "cells": [
  {
   "cell_type": "code",
   "execution_count": null,
   "id": "17df2cf3",
   "metadata": {},
   "outputs": [
    {
     "name": "stdout",
     "output_type": "stream",
     "text": [
      "丙\n"
     ]
    }
   ],
   "source": [
    "#1組if一定最多執行一個程式區段\n",
    "#同時滿足第一的條件與第二個條件時，只會執行第一個條件，不會執行第二個條件\n",
    "scores = int(input(\"請輸入學生分數0~100\"))\n",
    "if scores < 60:\n",
    "    print(\"丁\")\n",
    "elif scores < 70:\n",
    "    print(\"丙\")\n",
    "elif scores < 80:\n",
    "    print(\"乙\")\n",
    "elif scores < 90:\n",
    "    print(\"甲\")\n",
    "else:\n",
    "    print(\"優\")\n"
   ]
  },
  {
   "cell_type": "markdown",
   "id": "4e6f345a",
   "metadata": {},
   "source": [
    "### 組合2個條件\n",
    "- 巢狀判斷\n",
    "- 邏輯運算子 (and , or)"
   ]
  },
  {
   "cell_type": "code",
   "execution_count": null,
   "id": "9134c29e",
   "metadata": {},
   "outputs": [
    {
     "name": "stdout",
     "output_type": "stream",
     "text": [
      "獎金0元\n"
     ]
    }
   ],
   "source": [
    "#國文100同時數學100 --->獎金1000元\n",
    "#國玩100或者數學100 --->獎金500元\n",
    "#其他 --->0元\n",
    "#要先放嚴格條件and，再放容易的條件or，順序不可顛倒\n",
    "\n",
    "chinese = int(input(\"請輸入國文分數\"))\n",
    "math = int(input(\"請輸入數學分數\"))\n",
    "\n",
    "if chinese ==100 and math ==100:\n",
    "    print(\"獎金1000元\")\n",
    "elif chinese ==100 or math ==100:\n",
    "    print(\"獎金500元\")\n",
    "else:\n",
    "    print(\"獎金0元\")"
   ]
  }
 ],
 "metadata": {
  "kernelspec": {
   "display_name": "base",
   "language": "python",
   "name": "python3"
  },
  "language_info": {
   "codemirror_mode": {
    "name": "ipython",
    "version": 3
   },
   "file_extension": ".py",
   "mimetype": "text/x-python",
   "name": "python",
   "nbconvert_exporter": "python",
   "pygments_lexer": "ipython3",
   "version": "3.12.7"
  }
 },
 "nbformat": 4,
 "nbformat_minor": 5
}

{
 "cells": [
  {
   "cell_type": "markdown",
   "id": "2d7d9c26",
   "metadata": {},
   "source": [
    "### Json格式\n",
    "https://www.perplexity.ai/search/a8f46208-7ba6-468b-be59-0a02c7e596e3"
   ]
  },
  {
   "cell_type": "markdown",
   "id": "72d91572",
   "metadata": {},
   "source": [
    "https://opendata.cwa.gov.tw/api/v1/rest/datastore/F-C0032-001?Authorization=rdec-key-123-45678-011121314&format=JSON\n",
    "\n",
    "online json viewer"
   ]
  },
  {
   "cell_type": "markdown",
   "id": "de371f94",
   "metadata": {},
   "source": []
  }
 ],
 "metadata": {
  "kernelspec": {
   "display_name": "base",
   "language": "python",
   "name": "python3"
  },
  "language_info": {
   "name": "python",
   "version": "3.12.7"
  }
 },
 "nbformat": 4,
 "nbformat_minor": 5
}

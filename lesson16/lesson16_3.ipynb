{
 "cells": [
  {
   "cell_type": "code",
   "execution_count": 3,
   "id": "ec97840f",
   "metadata": {},
   "outputs": [],
   "source": [
    "import numpy as np\n",
    "import pandas as pd\n",
    "\n",
    "scores = np.random.randint(50, 101 ,size=(50, 5))\n",
    "score_pd = pd.DataFrame(scores, \n",
    "                         columns=['國文','英文','數學','地理','歷史'],\n",
    "                         index=[f'學生{index}' for index in range(1, 51)])\n",
    "\n",
    "score_pd.columns.name = '科目'\n",
    "score_pd.index.name = '學號'\n",
    "score_pd.to_excel('3年7班.xlsx',index=True)"
   ]
  },
  {
   "cell_type": "markdown",
   "id": "0d370486",
   "metadata": {},
   "source": [
    "###在lesson16底下建立excel資料夾，將3年5班、3年6班、3年7般的excel檔案放記進去"
   ]
  },
  {
   "cell_type": "code",
   "execution_count": 7,
   "id": "69b0f024",
   "metadata": {},
   "outputs": [
    {
     "data": {
      "text/plain": [
       "'C:\\\\Users\\\\user\\\\OneDrive\\\\文件\\\\github\\\\test\\\\lesson16\\\\excel'"
      ]
     },
     "execution_count": 7,
     "metadata": {},
     "output_type": "execute_result"
    }
   ],
   "source": [
    "#抓excel所在的目錄\n",
    "import os\n",
    "scirpt_path = os.path.realpath(__name__)\n",
    "scirpt_root = os.path.dirname(scirpt_path)\n",
    "os.path.join(scirpt_root, 'excel')\n"
   ]
  },
  {
   "cell_type": "code",
   "execution_count": 10,
   "id": "f1198989",
   "metadata": {},
   "outputs": [
    {
     "name": "stdout",
     "output_type": "stream",
     "text": [
      "3年5班.xlsx\n",
      "3年6班.xlsx\n",
      "3年7班.xlsx\n"
     ]
    }
   ],
   "source": [
    "import os\n",
    "scirpt_path = os.path.realpath(__name__)\n",
    "scirpt_root = os.path.dirname(scirpt_path)\n",
    "excel_folder = os.path.join(scirpt_root, 'excel')\n",
    "for excel_name in os.listdir(excel_folder):\n",
    "    print(excel_name)"
   ]
  }
 ],
 "metadata": {
  "kernelspec": {
   "display_name": "python2_4",
   "language": "python",
   "name": "python3"
  },
  "language_info": {
   "codemirror_mode": {
    "name": "ipython",
    "version": 3
   },
   "file_extension": ".py",
   "mimetype": "text/x-python",
   "name": "python",
   "nbconvert_exporter": "python",
   "pygments_lexer": "ipython3",
   "version": "3.11.13"
  }
 },
 "nbformat": 4,
 "nbformat_minor": 5
}

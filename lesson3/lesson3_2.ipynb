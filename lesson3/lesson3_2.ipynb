{
 "cells": [
  {
   "cell_type": "markdown",
   "id": "fb8d985f",
   "metadata": {},
   "source": [
    "複合指定運算子\n",
    "- +=\n",
    "- -=\n",
    "- *=\n",
    "-  /=\n",
    "- //=\n",
    "- %=\n",
    "- **="
   ]
  },
  {
   "cell_type": "code",
   "execution_count": 1,
   "id": "4a51402b",
   "metadata": {},
   "outputs": [
    {
     "name": "stdout",
     "output_type": "stream",
     "text": [
      "15\n"
     ]
    }
   ],
   "source": [
    "n = 5\n",
    "n = n + 10\n",
    "print(n)"
   ]
  },
  {
   "cell_type": "code",
   "execution_count": 3,
   "id": "2ae0673f",
   "metadata": {},
   "outputs": [
    {
     "name": "stdout",
     "output_type": "stream",
     "text": [
      "15\n"
     ]
    }
   ],
   "source": [
    "n = 5\n",
    "n += 10  #複合指定運算子\n",
    "print(n)"
   ]
  },
  {
   "cell_type": "markdown",
   "id": "a9017d36",
   "metadata": {},
   "source": [
    "### 使用內建的函式庫"
   ]
  },
  {
   "cell_type": "code",
   "execution_count": 7,
   "id": "f9d914e6",
   "metadata": {},
   "outputs": [
    {
     "name": "stdout",
     "output_type": "stream",
     "text": [
      "鄰邊: 3\n",
      "對邊: 4\n",
      "斜邊: 5.0\n"
     ]
    }
   ],
   "source": [
    "### 國中數學\n",
    "import math\n",
    "side = eval(input(\"請輸入鄰邊:\"))\n",
    "another_side = eval(input(\"請輸入對邊:\"))\n",
    "result = math.sqrt(side ** 2 + another_side ** 2)\n",
    "print(\"鄰邊:\",side)\n",
    "print('對邊:',another_side)\n",
    "print('斜邊:',result)"
   ]
  }
 ],
 "metadata": {
  "kernelspec": {
   "display_name": "base",
   "language": "python",
   "name": "python3"
  },
  "language_info": {
   "codemirror_mode": {
    "name": "ipython",
    "version": 3
   },
   "file_extension": ".py",
   "mimetype": "text/x-python",
   "name": "python",
   "nbconvert_exporter": "python",
   "pygments_lexer": "ipython3",
   "version": "3.12.7"
  }
 },
 "nbformat": 4,
 "nbformat_minor": 5
}

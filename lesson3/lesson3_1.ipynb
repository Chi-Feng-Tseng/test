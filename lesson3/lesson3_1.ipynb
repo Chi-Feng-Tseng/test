{
 "cells": [
  {
   "cell_type": "code",
   "execution_count": null,
   "id": "4238e8ef",
   "metadata": {},
   "outputs": [],
   "source": []
  },
  {
   "cell_type": "markdown",
   "id": "16640c64",
   "metadata": {},
   "source": [
    "### 數值運算(int,float)\n",
    "### 數學運算子\n",
    "### 數學運算子順序\n"
   ]
  },
  {
   "cell_type": "code",
   "execution_count": 1,
   "id": "3441bb84",
   "metadata": {},
   "outputs": [
    {
     "data": {
      "text/plain": [
       "2"
      ]
     },
     "execution_count": 1,
     "metadata": {},
     "output_type": "execute_result"
    }
   ],
   "source": [
    "1+1"
   ]
  },
  {
   "cell_type": "code",
   "execution_count": 3,
   "id": "9f442dec",
   "metadata": {},
   "outputs": [
    {
     "data": {
      "text/plain": [
       "25"
      ]
     },
     "execution_count": 3,
     "metadata": {},
     "output_type": "execute_result"
    }
   ],
   "source": [
    "5+10\n",
    "20+5"
   ]
  },
  {
   "cell_type": "markdown",
   "id": "e0dbabdf",
   "metadata": {},
   "source": [
    "### 建立變數\n"
   ]
  },
  {
   "cell_type": "code",
   "execution_count": null,
   "id": "ec682138",
   "metadata": {},
   "outputs": [
    {
     "name": "stdout",
     "output_type": "stream",
     "text": [
      "total= 40\n"
     ]
    }
   ],
   "source": [
    "n = 15 #敘述式\n",
    "m = 25 #敘述式\n",
    "total = n + m #敘述式\n",
    "print('total=', total) #敘述式\n"
   ]
  },
  {
   "cell_type": "code",
   "execution_count": 8,
   "id": "0d5ddd97",
   "metadata": {},
   "outputs": [
    {
     "name": "stdout",
     "output_type": "stream",
     "text": [
      "15 25\n"
     ]
    }
   ],
   "source": [
    "x = 5 + 10\n",
    "y = 20 + 5\n",
    "print(x, y)"
   ]
  },
  {
   "cell_type": "markdown",
   "id": "b55f303b",
   "metadata": {},
   "source": [
    "### 輸入 - input()\n",
    "### 輸出 - print()"
   ]
  },
  {
   "cell_type": "code",
   "execution_count": 11,
   "id": "408680cf",
   "metadata": {},
   "outputs": [
    {
     "name": "stdout",
     "output_type": "stream",
     "text": [
      "您輸入的整數式: 20\n"
     ]
    }
   ],
   "source": [
    "value_str = input(\"請輸入整數:\")\n",
    "value = int(value_str)\n",
    "print(\"您輸入的整數式:\", value)"
   ]
  }
 ],
 "metadata": {
  "kernelspec": {
   "display_name": "base",
   "language": "python",
   "name": "python3"
  },
  "language_info": {
   "codemirror_mode": {
    "name": "ipython",
    "version": 3
   },
   "file_extension": ".py",
   "mimetype": "text/x-python",
   "name": "python",
   "nbconvert_exporter": "python",
   "pygments_lexer": "ipython3",
   "version": "3.12.7"
  }
 },
 "nbformat": 4,
 "nbformat_minor": 5
}

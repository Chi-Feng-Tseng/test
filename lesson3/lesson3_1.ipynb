{
 "cells": [
  {
   "cell_type": "markdown",
   "id": "16640c64",
   "metadata": {},
   "source": [
    "### 數值運算(int,float)\n",
    "### 數學運算子\n",
    "### 數學運算子順序\n"
   ]
  },
  {
   "cell_type": "code",
   "execution_count": null,
   "id": "3441bb84",
   "metadata": {},
   "outputs": [],
   "source": []
  }
 ],
 "metadata": {
  "kernelspec": {
   "display_name": "base",
   "language": "python",
   "name": "python3"
  },
  "language_info": {
   "name": "python",
   "version": "3.12.7"
  }
 },
 "nbformat": 4,
 "nbformat_minor": 5
}

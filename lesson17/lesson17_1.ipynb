{
 "cells": [
  {
   "cell_type": "code",
   "execution_count": 2,
   "id": "ecb2d765",
   "metadata": {},
   "outputs": [
    {
     "data": {
      "text/html": [
       "<div>\n",
       "<style scoped>\n",
       "    .dataframe tbody tr th:only-of-type {\n",
       "        vertical-align: middle;\n",
       "    }\n",
       "\n",
       "    .dataframe tbody tr th {\n",
       "        vertical-align: top;\n",
       "    }\n",
       "\n",
       "    .dataframe thead th {\n",
       "        text-align: right;\n",
       "    }\n",
       "</style>\n",
       "<table border=\"1\" class=\"dataframe\">\n",
       "  <thead>\n",
       "    <tr style=\"text-align: right;\">\n",
       "      <th></th>\n",
       "      <th>strings</th>\n",
       "      <th>ints</th>\n",
       "      <th>floats</th>\n",
       "    </tr>\n",
       "  </thead>\n",
       "  <tbody>\n",
       "    <tr>\n",
       "      <th>0</th>\n",
       "      <td>Adam</td>\n",
       "      <td>1</td>\n",
       "      <td>1.123</td>\n",
       "    </tr>\n",
       "    <tr>\n",
       "      <th>1</th>\n",
       "      <td>Mike</td>\n",
       "      <td>3</td>\n",
       "      <td>1000.230</td>\n",
       "    </tr>\n",
       "  </tbody>\n",
       "</table>\n",
       "</div>"
      ],
      "text/plain": [
       "  strings  ints    floats\n",
       "0    Adam     1     1.123\n",
       "1    Mike     3  1000.230"
      ]
     },
     "metadata": {},
     "output_type": "display_data"
    },
    {
     "data": {
      "text/html": [
       "<style type=\"text/css\">\n",
       "</style>\n",
       "<table id=\"T_6dcdb\">\n",
       "  <thead>\n",
       "    <tr>\n",
       "      <th class=\"blank level0\" >&nbsp;</th>\n",
       "      <th id=\"T_6dcdb_level0_col0\" class=\"col_heading level0 col0\" >STRINGS</th>\n",
       "      <th id=\"T_6dcdb_level0_col1\" class=\"col_heading level0 col1\" >INTS</th>\n",
       "      <th id=\"T_6dcdb_level0_col2\" class=\"col_heading level0 col2\" >FLOATS</th>\n",
       "    </tr>\n",
       "  </thead>\n",
       "  <tbody>\n",
       "    <tr>\n",
       "      <th id=\"T_6dcdb_level0_row0\" class=\"row_heading level0 row0\" >列1</th>\n",
       "      <td id=\"T_6dcdb_row0_col0\" class=\"data row0 col0\" >Adam</td>\n",
       "      <td id=\"T_6dcdb_row0_col1\" class=\"data row0 col1\" >1</td>\n",
       "      <td id=\"T_6dcdb_row0_col2\" class=\"data row0 col2\" >1.123</td>\n",
       "    </tr>\n",
       "    <tr>\n",
       "      <th id=\"T_6dcdb_level0_row1\" class=\"row_heading level0 row1\" >列2</th>\n",
       "      <td id=\"T_6dcdb_row1_col0\" class=\"data row1 col0\" >Mike</td>\n",
       "      <td id=\"T_6dcdb_row1_col1\" class=\"data row1 col1\" >3</td>\n",
       "      <td id=\"T_6dcdb_row1_col2\" class=\"data row1 col2\" >1,000.230</td>\n",
       "    </tr>\n",
       "  </tbody>\n",
       "</table>\n"
      ],
      "text/plain": [
       "<pandas.io.formats.style.Styler at 0x1d70bfcd690>"
      ]
     },
     "execution_count": 2,
     "metadata": {},
     "output_type": "execute_result"
    }
   ],
   "source": [
    "#styler.format()\n",
    "#style.forma_index()\n",
    "#style.relabel_index\n",
    "import pandas as pd\n",
    "import numpy as np\n",
    "\n",
    "df = pd.DataFrame({\n",
    "    \"strings\": [\"Adam\", \"Mike\"],\n",
    "    \"ints\": [1, 3],\n",
    "    \"floats\": [1.123, 1000.23]\n",
    "})\n",
    "type(df.style)\n",
    "\n",
    "display(df)\n",
    "s = df.style\\\n",
    ".format(precision=3, thousands=\",\", decimal='.')\\\n",
    ".format_index(str.upper,axis=1)\\\n",
    ".relabel_index([\"列1\",\"列2\"])\n",
    "\n",
    "s"
   ]
  }
 ],
 "metadata": {
  "kernelspec": {
   "display_name": "python2_4",
   "language": "python",
   "name": "python3"
  },
  "language_info": {
   "codemirror_mode": {
    "name": "ipython",
    "version": 3
   },
   "file_extension": ".py",
   "mimetype": "text/x-python",
   "name": "python",
   "nbconvert_exporter": "python",
   "pygments_lexer": "ipython3",
   "version": "3.11.13"
  }
 },
 "nbformat": 4,
 "nbformat_minor": 5
}

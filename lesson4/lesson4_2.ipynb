{
 "cells": [
  {
   "cell_type": "code",
   "execution_count": 1,
   "id": "f11702c8",
   "metadata": {},
   "outputs": [
    {
     "name": "stdout",
     "output_type": "stream",
     "text": [
      "數值在120~220\n"
     ]
    }
   ],
   "source": [
    "value:int = int(input(\"請輸入一個值\"))\n",
    "if value >= 120:\n",
    "    if value <= 220:\n",
    "        print(\"數值在120~220\")"
   ]
  },
  {
   "cell_type": "code",
   "execution_count": null,
   "id": "2c65bb8d",
   "metadata": {},
   "outputs": [
    {
     "name": "stdout",
     "output_type": "stream",
     "text": [
      "大於220\n"
     ]
    }
   ],
   "source": [
    "value:int = int(input(\"請輸入一個值\"))\n",
    "if value <120:\n",
    "    print(\"小於120\")\n",
    "    \n",
    "if value >220:\n",
    "    print(\"大於220\")"
   ]
  },
  {
   "cell_type": "code",
   "execution_count": 5,
   "id": "e63a84c9",
   "metadata": {},
   "outputs": [
    {
     "name": "stdout",
     "output_type": "stream",
     "text": [
      "數值在120~220\n"
     ]
    }
   ],
   "source": [
    "#加入邏輯運算子  and,or  例  bool and bool (and 前後都要有bool)\n",
    "value:int = int(input(\"請輸入一個值\"))\n",
    "if value >=120 and value <=220:\n",
    "    print(\"數值在120~220\")"
   ]
  },
  {
   "cell_type": "code",
   "execution_count": 6,
   "id": "7f166e59",
   "metadata": {},
   "outputs": [
    {
     "name": "stdout",
     "output_type": "stream",
     "text": [
      "小於120或者大於220\n"
     ]
    }
   ],
   "source": [
    "value:int = int(input(\"請輸入一個值\"))\n",
    "if value <120 or value > 220:\n",
    "    print(\"小於120或者大於220\")\n"
   ]
  },
  {
   "cell_type": "code",
   "execution_count": 9,
   "id": "8789c460",
   "metadata": {},
   "outputs": [
    {
     "name": "stdout",
     "output_type": "stream",
     "text": [
      "不及格\n"
     ]
    }
   ],
   "source": [
    "scores = int(input(\"scores:\"))\n",
    "if scores >=80:\n",
    "    print(\"優\")\n",
    "else:\n",
    "    if scores >=60:\n",
    "        print(\"甲\")\n",
    "    else:\n",
    "        print(\"不及格\")"
   ]
  },
  {
   "cell_type": "code",
   "execution_count": null,
   "id": "c0f161fd",
   "metadata": {},
   "outputs": [
    {
     "name": "stdout",
     "output_type": "stream",
     "text": [
      "不及格\n"
     ]
    }
   ],
   "source": [
    "scores = int(input(\"scores:\"))\n",
    "if scores >=80:\n",
    "    print(\"優\")\n",
    "elif scores >=60:  #else 裡面還有if ，就用elif\n",
    "    print(\"甲\")\n",
    "else:\n",
    "    print(\"不及格\")"
   ]
  }
 ],
 "metadata": {
  "kernelspec": {
   "display_name": "base",
   "language": "python",
   "name": "python3"
  },
  "language_info": {
   "codemirror_mode": {
    "name": "ipython",
    "version": 3
   },
   "file_extension": ".py",
   "mimetype": "text/x-python",
   "name": "python",
   "nbconvert_exporter": "python",
   "pygments_lexer": "ipython3",
   "version": "3.12.7"
  }
 },
 "nbformat": 4,
 "nbformat_minor": 5
}

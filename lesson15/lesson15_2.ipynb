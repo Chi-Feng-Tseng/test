{
 "cells": [
  {
   "cell_type": "markdown",
   "id": "eb09ab66",
   "metadata": {},
   "source": [
    "https://www.perplexity.ai/search/27854047-0059-44b3-b1ed-b6dbdddd6505"
   ]
  },
  {
   "cell_type": "code",
   "execution_count": 1,
   "id": "3d0bfa0a",
   "metadata": {},
   "outputs": [
    {
     "data": {
      "text/plain": [
       "array([[61, 98, 61, 63, 62],\n",
       "       [62, 87, 88, 76, 91],\n",
       "       [60, 70, 69, 72, 92],\n",
       "       [89, 60, 88, 77, 64],\n",
       "       [58, 50, 61, 57, 79]], dtype=int32)"
      ]
     },
     "execution_count": 1,
     "metadata": {},
     "output_type": "execute_result"
    }
   ],
   "source": [
    "import numpy as np\n",
    "scores = np.random.randint(50,101,size=(5,5))\n",
    "scores"
   ]
  },
  {
   "cell_type": "code",
   "execution_count": null,
   "id": "d5f20cb9",
   "metadata": {},
   "outputs": [
    {
     "data": {
      "text/plain": [
       "array([[61, 63, 62],\n",
       "       [88, 76, 91],\n",
       "       [69, 72, 92]], dtype=int32)"
      ]
     },
     "execution_count": 2,
     "metadata": {},
     "output_type": "execute_result"
    }
   ],
   "source": [
    "scores[:3,2:]   # [:3 , 2:] 的意思是縱軸從1抓到3，橫軸從第2個開始算後面全要(橫軸是從0開始算起)，就是抓右上角的矩陣"
   ]
  },
  {
   "cell_type": "code",
   "execution_count": 6,
   "id": "3160d852",
   "metadata": {},
   "outputs": [
    {
     "data": {
      "text/plain": [
       "array([98, 51, 99, 89, 85], dtype=int32)"
      ]
     },
     "execution_count": 6,
     "metadata": {},
     "output_type": "execute_result"
    }
   ],
   "source": [
    "scores[4]"
   ]
  },
  {
   "cell_type": "code",
   "execution_count": 7,
   "id": "65be4512",
   "metadata": {},
   "outputs": [
    {
     "data": {
      "text/plain": [
       "array([98, 51, 99, 89, 85], dtype=int32)"
      ]
     },
     "execution_count": 7,
     "metadata": {},
     "output_type": "execute_result"
    }
   ],
   "source": [
    "scores[4,:]"
   ]
  },
  {
   "cell_type": "code",
   "execution_count": 11,
   "id": "09e32013",
   "metadata": {},
   "outputs": [
    {
     "data": {
      "text/plain": [
       "array([[98, 51, 99, 89, 85]], dtype=int32)"
      ]
     },
     "execution_count": 11,
     "metadata": {},
     "output_type": "execute_result"
    }
   ],
   "source": [
    "scores[4:,:]"
   ]
  },
  {
   "cell_type": "code",
   "execution_count": 12,
   "id": "4cc87e31",
   "metadata": {},
   "outputs": [
    {
     "data": {
      "text/plain": [
       "array([[ 70,  83],\n",
       "       [ 79, 100],\n",
       "       [ 77,  52],\n",
       "       [ 82,  76],\n",
       "       [ 98,  51]], dtype=int32)"
      ]
     },
     "execution_count": 12,
     "metadata": {},
     "output_type": "execute_result"
    }
   ],
   "source": [
    "scores[:,:2]"
   ]
  },
  {
   "cell_type": "markdown",
   "id": "afaaa7fd",
   "metadata": {},
   "source": [
    "### numpy的統計工具"
   ]
  },
  {
   "cell_type": "code",
   "execution_count": 15,
   "id": "b14ceb42",
   "metadata": {},
   "outputs": [
    {
     "data": {
      "text/plain": [
       "array([[ 94,  93,  87,  64,  92],\n",
       "       [ 64,  54,  80,  62,  84],\n",
       "       [ 60,  60, 100,  82,  78],\n",
       "       [ 78,  79,  71,  59,  62],\n",
       "       [ 69,  77,  82,  71,  83]], dtype=int32)"
      ]
     },
     "execution_count": 15,
     "metadata": {},
     "output_type": "execute_result"
    }
   ],
   "source": [
    "scores = np.random.randint(50, 101, size=(5, 5))\n",
    "scores"
   ]
  },
  {
   "cell_type": "code",
   "execution_count": 16,
   "id": "297c4c4b",
   "metadata": {},
   "outputs": [
    {
     "data": {
      "text/plain": [
       "array([430, 344, 380, 349, 382], dtype=int32)"
      ]
     },
     "execution_count": 16,
     "metadata": {},
     "output_type": "execute_result"
    }
   ],
   "source": [
    "scores[:,0] +scores[:,1] +scores[:,2] +scores[:,3] + scores[:,4]"
   ]
  },
  {
   "cell_type": "code",
   "execution_count": null,
   "id": "4142e1ae",
   "metadata": {},
   "outputs": [
    {
     "data": {
      "text/plain": [
       "array([430, 344, 380, 349, 382])"
      ]
     },
     "execution_count": 18,
     "metadata": {},
     "output_type": "execute_result"
    }
   ],
   "source": [
    "#加總\n",
    "np.sum(scores, axis=1)  #答案與上述相同"
   ]
  },
  {
   "cell_type": "code",
   "execution_count": 19,
   "id": "a7ecf0de",
   "metadata": {},
   "outputs": [
    {
     "data": {
      "text/plain": [
       "array([86. , 68.8, 76. , 69.8, 76.4])"
      ]
     },
     "execution_count": 19,
     "metadata": {},
     "output_type": "execute_result"
    }
   ],
   "source": [
    "#平均\n",
    "np.mean(scores, axis=1)"
   ]
  },
  {
   "cell_type": "code",
   "execution_count": 24,
   "id": "9dd1f366",
   "metadata": {},
   "outputs": [
    {
     "data": {
      "text/plain": [
       "array([ 94,  84, 100,  79,  83], dtype=int32)"
      ]
     },
     "execution_count": 24,
     "metadata": {},
     "output_type": "execute_result"
    }
   ],
   "source": [
    "#最大\n",
    "np.max(scores,axis=1)"
   ]
  },
  {
   "cell_type": "code",
   "execution_count": 21,
   "id": "472899be",
   "metadata": {},
   "outputs": [
    {
     "data": {
      "text/plain": [
       "array([64, 54, 60, 59, 69], dtype=int32)"
      ]
     },
     "execution_count": 21,
     "metadata": {},
     "output_type": "execute_result"
    }
   ],
   "source": [
    "#最小\n",
    "np.min(scores, axis=1)"
   ]
  },
  {
   "cell_type": "code",
   "execution_count": 22,
   "id": "0a870a3d",
   "metadata": {},
   "outputs": [
    {
     "data": {
      "text/plain": [
       "array([92., 64., 78., 71., 77.])"
      ]
     },
     "execution_count": 22,
     "metadata": {},
     "output_type": "execute_result"
    }
   ],
   "source": [
    "#中間數\n",
    "np.median(scores, axis=1)"
   ]
  },
  {
   "cell_type": "code",
   "execution_count": 23,
   "id": "6cec42e3",
   "metadata": {},
   "outputs": [
    {
     "data": {
      "text/plain": [
       "array([11.26055061, 11.35605565, 15.01998668,  8.13387976,  5.64269439])"
      ]
     },
     "execution_count": 23,
     "metadata": {},
     "output_type": "execute_result"
    }
   ],
   "source": [
    "#標準差\n",
    "np.std(scores, axis=1)"
   ]
  }
 ],
 "metadata": {
  "kernelspec": {
   "display_name": "python2_4",
   "language": "python",
   "name": "python3"
  },
  "language_info": {
   "codemirror_mode": {
    "name": "ipython",
    "version": 3
   },
   "file_extension": ".py",
   "mimetype": "text/x-python",
   "name": "python",
   "nbconvert_exporter": "python",
   "pygments_lexer": "ipython3",
   "version": "3.11.13"
  }
 },
 "nbformat": 4,
 "nbformat_minor": 5
}

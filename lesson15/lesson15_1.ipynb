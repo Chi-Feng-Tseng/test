{
 "cells": [
  {
   "cell_type": "markdown",
   "id": "9c9b7a5c",
   "metadata": {},
   "source": [
    "https://www.perplexity.ai/search/1f6d8098-e981-44bf-b915-b14b9e9052da"
   ]
  },
  {
   "cell_type": "code",
   "execution_count": 3,
   "id": "44b07709",
   "metadata": {},
   "outputs": [
    {
     "data": {
      "text/plain": [
       "array([1, 3, 5, 7, 9])"
      ]
     },
     "execution_count": 3,
     "metadata": {},
     "output_type": "execute_result"
    }
   ],
   "source": [
    "import numpy as np\n",
    "np.array([1, 3, 5, 7, 9])"
   ]
  },
  {
   "cell_type": "code",
   "execution_count": null,
   "id": "def78424",
   "metadata": {},
   "outputs": [
    {
     "data": {
      "text/plain": [
       "array([[0., 0., 0., 0.],\n",
       "       [0., 0., 0., 0.],\n",
       "       [0., 0., 0., 0.]])"
      ]
     },
     "execution_count": 3,
     "metadata": {},
     "output_type": "execute_result"
    }
   ],
   "source": [
    "np.zeros((3, 4)) #裡面包了一個tuple"
   ]
  },
  {
   "cell_type": "code",
   "execution_count": 4,
   "id": "3122de7b",
   "metadata": {},
   "outputs": [
    {
     "data": {
      "text/plain": [
       "array([[1., 1., 1., 1.],\n",
       "       [1., 1., 1., 1.],\n",
       "       [1., 1., 1., 1.],\n",
       "       [1., 1., 1., 1.]])"
      ]
     },
     "execution_count": 4,
     "metadata": {},
     "output_type": "execute_result"
    }
   ],
   "source": [
    "np.ones((4, 4))"
   ]
  },
  {
   "cell_type": "code",
   "execution_count": null,
   "id": "106c6ef9",
   "metadata": {},
   "outputs": [
    {
     "data": {
      "text/plain": [
       "array([0. , 0.1, 0.2, 0.3, 0.4, 0.5, 0.6, 0.7, 0.8, 0.9])"
      ]
     },
     "execution_count": 5,
     "metadata": {},
     "output_type": "execute_result"
    }
   ],
   "source": [
    "np.arange(0, 1, 0.1)  #建立0~1之間，每增加一個數字就+0.1，其中不包含1"
   ]
  },
  {
   "cell_type": "code",
   "execution_count": null,
   "id": "7678bd04",
   "metadata": {},
   "outputs": [
    {
     "data": {
      "text/plain": [
       "array([0.        , 0.11111111, 0.22222222, 0.33333333, 0.44444444,\n",
       "       0.55555556, 0.66666667, 0.77777778, 0.88888889, 1.        ])"
      ]
     },
     "execution_count": 6,
     "metadata": {},
     "output_type": "execute_result"
    }
   ],
   "source": [
    "np.linspace(0, 1, 10)  #建立0~1之間，共有10筆數據，其中不包含1"
   ]
  },
  {
   "cell_type": "code",
   "execution_count": 7,
   "id": "4ad56e65",
   "metadata": {},
   "outputs": [
    {
     "data": {
      "text/plain": [
       "array([[0.33954391, 0.25637271, 0.65233277, 0.52551613],\n",
       "       [0.31121517, 0.77391135, 0.91137638, 0.86157276],\n",
       "       [0.5841693 , 0.99946282, 0.6203923 , 0.46305711]])"
      ]
     },
     "execution_count": 7,
     "metadata": {},
     "output_type": "execute_result"
    }
   ],
   "source": [
    "np.random.rand(3, 4)"
   ]
  },
  {
   "cell_type": "code",
   "execution_count": 8,
   "id": "0109cd6e",
   "metadata": {},
   "outputs": [
    {
     "data": {
      "text/plain": [
       "array([[ 51,  55,  58,  63,  58],\n",
       "       [ 83,  81,  73,  61,  77],\n",
       "       [ 55,  95,  84,  55,  89],\n",
       "       [ 51,  91,  69,  77,  78],\n",
       "       [ 52,  58,  82,  78,  85],\n",
       "       [ 55,  99,  62,  65,  58],\n",
       "       [ 56,  63,  62,  81,  75],\n",
       "       [ 90,  52,  80,  90,  72],\n",
       "       [ 99,  58,  90,  83,  92],\n",
       "       [ 51,  81,  63,  71,  73],\n",
       "       [ 78, 100,  97,  98,  75],\n",
       "       [ 55,  70,  64,  66,  87],\n",
       "       [ 78,  97,  79,  84,  53],\n",
       "       [ 93,  89,  74,  57,  89],\n",
       "       [ 80,  68,  62,  55,  73],\n",
       "       [ 88,  67,  52,  73,  86],\n",
       "       [ 86,  64,  96,  96,  95],\n",
       "       [ 53,  79,  67,  92,  98],\n",
       "       [ 81,  92,  76,  77,  98],\n",
       "       [ 73,  55,  86,  76,  93],\n",
       "       [ 83,  67,  54,  97,  84],\n",
       "       [ 55, 100,  63,  74,  97],\n",
       "       [ 65,  50,  86,  90,  63],\n",
       "       [ 82,  95,  69,  81,  60],\n",
       "       [ 70,  84,  91,  53,  88],\n",
       "       [ 75,  84,  81,  65,  75],\n",
       "       [ 84,  78,  54,  53,  68],\n",
       "       [ 94,  51,  81,  95,  78],\n",
       "       [ 96,  60,  58,  58,  91],\n",
       "       [ 59,  70,  64,  50,  52],\n",
       "       [ 67,  96,  78,  80,  81],\n",
       "       [ 50,  98,  79,  69, 100],\n",
       "       [ 59,  68,  50,  84,  53],\n",
       "       [ 92,  66,  63,  70,  97],\n",
       "       [ 94,  93,  50,  80,  80],\n",
       "       [ 96,  51,  89,  51,  60],\n",
       "       [ 96,  73,  87,  85,  84],\n",
       "       [ 95,  63,  90,  56,  96],\n",
       "       [ 59,  64,  91,  83,  68],\n",
       "       [ 76,  54,  98,  53,  87],\n",
       "       [ 98,  95,  59,  67,  52],\n",
       "       [ 78,  88,  57,  56,  74],\n",
       "       [ 97,  69,  78,  61,  95],\n",
       "       [ 99,  97,  88,  68,  67],\n",
       "       [ 71,  56,  50,  54,  55],\n",
       "       [ 51,  64,  83,  80,  59],\n",
       "       [ 53,  66,  75,  92,  91],\n",
       "       [ 61,  57,  53,  67,  71],\n",
       "       [ 94,  97,  85,  77,  99],\n",
       "       [ 71,  67,  88,  69,  72]], dtype=int32)"
      ]
     },
     "execution_count": 8,
     "metadata": {},
     "output_type": "execute_result"
    }
   ],
   "source": [
    "scores = np.random.randint(50,101,size=(50, 5))  # 50~100之間隨機出現，其中以size來規範共50個學生，每個學生共產生5筆數據\n",
    "scores"
   ]
  }
 ],
 "metadata": {
  "kernelspec": {
   "display_name": "python2_4",
   "language": "python",
   "name": "python3"
  },
  "language_info": {
   "codemirror_mode": {
    "name": "ipython",
    "version": 3
   },
   "file_extension": ".py",
   "mimetype": "text/x-python",
   "name": "python",
   "nbconvert_exporter": "python",
   "pygments_lexer": "ipython3",
   "version": "3.11.13"
  }
 },
 "nbformat": 4,
 "nbformat_minor": 5
}

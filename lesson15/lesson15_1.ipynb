{
 "cells": [
  {
   "cell_type": "markdown",
   "id": "9c9b7a5c",
   "metadata": {},
   "source": [
    "https://www.perplexity.ai/search/1f6d8098-e981-44bf-b915-b14b9e9052da"
   ]
  },
  {
   "cell_type": "code",
   "execution_count": 2,
   "id": "44b07709",
   "metadata": {},
   "outputs": [
    {
     "data": {
      "text/plain": [
       "array([1, 3, 5, 7, 9])"
      ]
     },
     "execution_count": 2,
     "metadata": {},
     "output_type": "execute_result"
    }
   ],
   "source": [
    "import numpy as np\n",
    "np.array([1, 3, 5, 7, 9])"
   ]
  },
  {
   "cell_type": "code",
   "execution_count": null,
   "id": "def78424",
   "metadata": {},
   "outputs": [
    {
     "data": {
      "text/plain": [
       "array([[0., 0., 0., 0.],\n",
       "       [0., 0., 0., 0.],\n",
       "       [0., 0., 0., 0.]])"
      ]
     },
     "execution_count": 3,
     "metadata": {},
     "output_type": "execute_result"
    }
   ],
   "source": [
    "np.zeros((3, 4)) #裡面包了一個tuple"
   ]
  },
  {
   "cell_type": "code",
   "execution_count": 4,
   "id": "3122de7b",
   "metadata": {},
   "outputs": [
    {
     "data": {
      "text/plain": [
       "array([[1., 1., 1., 1.],\n",
       "       [1., 1., 1., 1.],\n",
       "       [1., 1., 1., 1.],\n",
       "       [1., 1., 1., 1.]])"
      ]
     },
     "execution_count": 4,
     "metadata": {},
     "output_type": "execute_result"
    }
   ],
   "source": [
    "np.ones((4, 4))"
   ]
  },
  {
   "cell_type": "code",
   "execution_count": 5,
   "id": "106c6ef9",
   "metadata": {},
   "outputs": [
    {
     "data": {
      "text/plain": [
       "array([0. , 0.1, 0.2, 0.3, 0.4, 0.5, 0.6, 0.7, 0.8, 0.9])"
      ]
     },
     "execution_count": 5,
     "metadata": {},
     "output_type": "execute_result"
    }
   ],
   "source": [
    "np.arange(0, 1, 0.1)"
   ]
  },
  {
   "cell_type": "code",
   "execution_count": 6,
   "id": "7678bd04",
   "metadata": {},
   "outputs": [
    {
     "data": {
      "text/plain": [
       "array([0.        , 0.11111111, 0.22222222, 0.33333333, 0.44444444,\n",
       "       0.55555556, 0.66666667, 0.77777778, 0.88888889, 1.        ])"
      ]
     },
     "execution_count": 6,
     "metadata": {},
     "output_type": "execute_result"
    }
   ],
   "source": [
    "np.linspace(0, 1, 10)"
   ]
  },
  {
   "cell_type": "code",
   "execution_count": 7,
   "id": "4ad56e65",
   "metadata": {},
   "outputs": [
    {
     "data": {
      "text/plain": [
       "array([[0.33954391, 0.25637271, 0.65233277, 0.52551613],\n",
       "       [0.31121517, 0.77391135, 0.91137638, 0.86157276],\n",
       "       [0.5841693 , 0.99946282, 0.6203923 , 0.46305711]])"
      ]
     },
     "execution_count": 7,
     "metadata": {},
     "output_type": "execute_result"
    }
   ],
   "source": [
    "np.random.rand(3, 4)"
   ]
  },
  {
   "cell_type": "code",
   "execution_count": 18,
   "id": "0109cd6e",
   "metadata": {},
   "outputs": [
    {
     "data": {
      "text/plain": [
       "array([[ 71,  57,  61,  74,  66],\n",
       "       [ 76,  95,  94,  52,  91],\n",
       "       [ 60,  57,  90,  73,  58],\n",
       "       [ 97,  76,  75,  56,  83],\n",
       "       [ 71,  81,  79,  56,  65],\n",
       "       [ 66,  53,  97,  98,  75],\n",
       "       [ 61,  50,  55,  89,  86],\n",
       "       [ 65,  52,  67,  60,  72],\n",
       "       [100,  95,  67,  67,  99],\n",
       "       [ 78,  51,  84,  96, 100],\n",
       "       [ 83,  79,  85,  68,  61],\n",
       "       [ 91,  74,  90,  82,  63],\n",
       "       [ 99,  77,  50,  97,  96],\n",
       "       [ 67,  97,  52,  70,  54],\n",
       "       [ 98,  95,  61,  89,  79],\n",
       "       [ 75,  82,  64,  66,  71],\n",
       "       [ 52,  90,  75,  54,  99],\n",
       "       [ 51,  97,  69,  81,  66],\n",
       "       [ 62,  52,  80,  84,  74],\n",
       "       [ 81,  80,  82,  90,  50],\n",
       "       [ 90,  87,  67,  98,  74],\n",
       "       [ 82,  95,  87,  84,  53],\n",
       "       [ 85,  70,  95,  86,  96],\n",
       "       [ 92,  90,  76,  65,  90],\n",
       "       [ 91,  65,  81,  66,  56],\n",
       "       [ 85,  66,  74,  81,  82],\n",
       "       [100,  95,  54,  87,  77],\n",
       "       [ 92,  80,  64,  97,  82],\n",
       "       [ 94,  89,  59,  58,  99],\n",
       "       [ 56,  94,  79,  98,  63],\n",
       "       [ 50,  66,  60,  66,  58],\n",
       "       [ 72,  69,  85,  59,  91],\n",
       "       [ 52,  65,  74,  90,  60],\n",
       "       [ 89,  67,  51,  91,  56],\n",
       "       [ 63,  86,  65,  98, 100],\n",
       "       [ 74,  91,  59,  59,  51],\n",
       "       [ 50,  76,  75,  89,  68],\n",
       "       [ 65,  67,  94,  80,  59],\n",
       "       [ 82,  82,  81,  89,  86],\n",
       "       [ 68,  89,  70,  96,  60],\n",
       "       [ 52,  79,  96,  87,  69],\n",
       "       [ 78,  80,  51,  53,  81],\n",
       "       [ 94,  84,  85,  87,  60],\n",
       "       [ 75,  68,  53,  99,  79],\n",
       "       [ 96,  90,  55,  58,  78],\n",
       "       [ 67,  85,  93,  86,  69],\n",
       "       [ 71,  57,  96,  78,  57],\n",
       "       [ 81,  54,  66,  85,  97],\n",
       "       [ 72,  52,  53,  98,  88],\n",
       "       [ 76,  89,  62,  59,  73]], dtype=int32)"
      ]
     },
     "execution_count": 18,
     "metadata": {},
     "output_type": "execute_result"
    }
   ],
   "source": [
    "scores = np.random.randint(50,101,size=(50, 5))\n",
    "scores"
   ]
  }
 ],
 "metadata": {
  "kernelspec": {
   "display_name": "python2_4",
   "language": "python",
   "name": "python3"
  },
  "language_info": {
   "codemirror_mode": {
    "name": "ipython",
    "version": 3
   },
   "file_extension": ".py",
   "mimetype": "text/x-python",
   "name": "python",
   "nbconvert_exporter": "python",
   "pygments_lexer": "ipython3",
   "version": "3.11.13"
  }
 },
 "nbformat": 4,
 "nbformat_minor": 5
}

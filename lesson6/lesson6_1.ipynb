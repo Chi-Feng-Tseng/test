{
 "cells": [
  {
   "cell_type": "code",
   "execution_count": null,
   "id": "86213374",
   "metadata": {},
   "outputs": [],
   "source": [
    "try:\n",
    "    weight:int = int(input(\"請輸入體重:\"))\n",
    "    if weight < 30 or weight > 200:\n",
    "        raise Exception(\"輸入體重低於30或高於200\")\n",
    "    print(f\"體重:{weight} Kg\")\n",
    "    \n",
    "    height:int = int(input(\"請輸入身高:\")) \n",
    "    if height < 120 or height > 220:\n",
    "         raise Exception(\"輸入身高低於120或高於220\")\n",
    "    print(f'身高:{height} cm')\n",
    "\n",
    "    BMI = weight/(height/100)**2\n",
    "\n",
    "    print(f'BMI:{BMI:.2f}')\n",
    "\n",
    "    if BMI >=18.5 and BMI < 24:\n",
    "        print(\"BMI為正常範圍\")\n",
    "    elif BMI < 18.5:\n",
    "        print(\"體重過輕\")\n",
    "    elif  BMI >= 24 and BMI < 27:\n",
    "        print(\"體重過重\")\n",
    "    elif BMI >= 27 and BMI < 30:\n",
    "        print(\"輕度肥胖\")\n",
    "    elif BMI >= 30 and BMI < 35:\n",
    "        print(\"中度肥胖\")\n",
    "    else:\n",
    "        print(\"重度肥胖\")\n",
    "\n",
    "except ValueError:\n",
    "    print(\"輸入數值非int型態\")\n",
    "\n",
    "except Exception as e:\n",
    "    print(e)\n",
    "    \n",
    "print(\"應用程式結束\")"
   ]
  }
 ],
 "metadata": {
  "kernelspec": {
   "display_name": "base",
   "language": "python",
   "name": "python3"
  },
  "language_info": {
   "name": "python",
   "version": "3.12.7"
  }
 },
 "nbformat": 4,
 "nbformat_minor": 5
}

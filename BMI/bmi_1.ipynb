{
 "cells": [
  {
   "cell_type": "code",
   "execution_count": 4,
   "id": "c72d7b0e",
   "metadata": {},
   "outputs": [
    {
     "name": "stdout",
     "output_type": "stream",
     "text": [
      "體重:90 Kg\n",
      "身高:175 cm\n",
      "BMI:29.39\n",
      "輕度肥胖\n",
      "應用程式結束\n"
     ]
    }
   ],
   "source": [
    "try:\n",
    "    weight:int = int(input(\"請輸入體重:\"))\n",
    "    if weight < 30 or weight > 200:\n",
    "        raise Exception(\"輸入體重低於30或高於200\")\n",
    "    print(f\"體重:{weight} Kg\")\n",
    "    \n",
    "    height:int = int(input(\"請輸入身高:\")) \n",
    "    if height < 120 or height > 220:\n",
    "         raise Exception(\"輸入身高低於120或高於220\")\n",
    "    print(f'身高:{height} cm')\n",
    "\n",
    "    BMI = weight/(height/100)**2\n",
    "\n",
    "    print(f'BMI:{BMI:.2f}')\n",
    "\n",
    "    if BMI >=18.5 and BMI < 24:\n",
    "        print(\"BMI為正常範圍\")\n",
    "    elif BMI < 18.5:\n",
    "        print(\"體重過輕\")\n",
    "    elif  BMI >= 24 and BMI < 27:\n",
    "        print(\"體重過重\")\n",
    "    elif BMI >= 27 and BMI < 30:\n",
    "        print(\"輕度肥胖\")\n",
    "    elif BMI >= 30 and BMI < 35:\n",
    "        print(\"中度肥胖\")\n",
    "    else:\n",
    "        print(\"重度肥胖\")\n",
    "\n",
    "except ValueError:\n",
    "    print(\"輸入數值非int型態\")\n",
    "\n",
    "except Exception as e:\n",
    "    print(e)\n",
    "    \n",
    "print(\"應用程式結束\")\n",
    "\n",
    "\n"
   ]
  }
 ],
 "metadata": {
  "kernelspec": {
   "display_name": "base",
   "language": "python",
   "name": "python3"
  },
  "language_info": {
   "codemirror_mode": {
    "name": "ipython",
    "version": 3
   },
   "file_extension": ".py",
   "mimetype": "text/x-python",
   "name": "python",
   "nbconvert_exporter": "python",
   "pygments_lexer": "ipython3",
   "version": "3.12.7"
  }
 },
 "nbformat": 4,
 "nbformat_minor": 5
}

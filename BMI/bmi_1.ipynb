{
 "cells": [
  {
   "cell_type": "code",
   "execution_count": null,
   "id": "c72d7b0e",
   "metadata": {},
   "outputs": [
    {
     "ename": "SyntaxError",
     "evalue": "invalid syntax (2829864913.py, line 6)",
     "output_type": "error",
     "traceback": [
      "\u001b[0;36m  Cell \u001b[0;32mIn[4], line 6\u001b[0;36m\u001b[0m\n\u001b[0;31m    except ValueError:\u001b[0m\n\u001b[0m    ^\u001b[0m\n\u001b[0;31mSyntaxError\u001b[0m\u001b[0;31m:\u001b[0m invalid syntax\n"
     ]
    }
   ],
   "source": [
    "try:\n",
    "    weight:int = int(input(\"請輸入體重:\"))\n",
    "    if weight < 30 or weight > 200:\n",
    "        raise Exception(\"輸入體重低於30或高於200\")\n",
    "    print(f\"體重:{weight} Kg\")\n",
    "    \n",
    "    height:int = int(input(\"請輸入身高:\")) \n",
    "    if height < 120 or height > 220:\n",
    "         raise Exception(\"輸入身高低於120或高於220\")\n",
    "    print(f'身高:{height} cm')\n",
    "\n",
    "    BMI = weight/(height/100)**2\n",
    "\n",
    "    print(f'BMI:{BMI:.2f}')\n",
    "\n",
    "except ValueError:\n",
    "    print(\"輸入數值非int型態\")\n",
    "\n",
    "except Exception as e:\n",
    "    print(e)\n",
    "\n",
    "\n",
    "\n"
   ]
  }
 ],
 "metadata": {
  "kernelspec": {
   "display_name": "base",
   "language": "python",
   "name": "python3"
  },
  "language_info": {
   "codemirror_mode": {
    "name": "ipython",
    "version": 3
   },
   "file_extension": ".py",
   "mimetype": "text/x-python",
   "name": "python",
   "nbconvert_exporter": "python",
   "pygments_lexer": "ipython3",
   "version": "3.12.7"
  }
 },
 "nbformat": 4,
 "nbformat_minor": 5
}

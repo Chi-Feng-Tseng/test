{
 "cells": [
  {
   "cell_type": "code",
   "execution_count": 11,
   "id": "f4947df3",
   "metadata": {},
   "outputs": [
    {
     "name": "stdout",
     "output_type": "stream",
     "text": [
      "體重:67 Kg\n",
      "身高:1.7 m\n",
      "BMI:23.18\n"
     ]
    }
   ],
   "source": [
    "import math\n",
    "weight = eval(input(\"請輸入體重:\"))\n",
    "height = eval(input(\"請輸入身高:\")) / 100\n",
    "BMI = weight/height**2\n",
    "\n",
    "\n",
    "print(f\"體重:{weight} Kg\")\n",
    "print(f'身高:{height} m')\n",
    "print(f'BMI:{BMI:.2f}')"
   ]
  }
 ],
 "metadata": {
  "kernelspec": {
   "display_name": "base",
   "language": "python",
   "name": "python3"
  },
  "language_info": {
   "codemirror_mode": {
    "name": "ipython",
    "version": 3
   },
   "file_extension": ".py",
   "mimetype": "text/x-python",
   "name": "python",
   "nbconvert_exporter": "python",
   "pygments_lexer": "ipython3",
   "version": "3.12.7"
  }
 },
 "nbformat": 4,
 "nbformat_minor": 5
}

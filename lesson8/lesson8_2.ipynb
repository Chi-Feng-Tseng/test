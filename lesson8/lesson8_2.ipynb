{
 "cells": [
  {
   "cell_type": "code",
   "execution_count": null,
   "id": "3ba6b4ec",
   "metadata": {},
   "outputs": [],
   "source": [
    "### list_comprehension(快速建立list)\n",
    "- [expression for item in iterable]"
   ]
  },
  {
   "cell_type": "code",
   "execution_count": 4,
   "id": "a1dd1b71",
   "metadata": {},
   "outputs": [
    {
     "name": "stdout",
     "output_type": "stream",
     "text": [
      "1\n",
      "2\n",
      "3\n",
      "4\n",
      "5\n",
      "6\n",
      "7\n",
      "8\n",
      "9\n",
      "10\n"
     ]
    }
   ],
   "source": [
    "for i in range(1,11):\n",
    "    print(i)"
   ]
  },
  {
   "cell_type": "code",
   "execution_count": 5,
   "id": "76a32113",
   "metadata": {},
   "outputs": [
    {
     "data": {
      "text/plain": [
       "[1, 2, 3, 4, 5, 6, 7, 8, 9, 10]"
      ]
     },
     "execution_count": 5,
     "metadata": {},
     "output_type": "execute_result"
    }
   ],
   "source": [
    "[i for i in range(1,11)]"
   ]
  },
  {
   "cell_type": "code",
   "execution_count": 6,
   "id": "fdc5f1fb",
   "metadata": {},
   "outputs": [
    {
     "data": {
      "text/plain": [
       "[2, 4, 6, 8, 10, 12, 14, 16, 18, 20]"
      ]
     },
     "execution_count": 6,
     "metadata": {},
     "output_type": "execute_result"
    }
   ],
   "source": [
    "[i*2 for i in range(1,11)]"
   ]
  },
  {
   "cell_type": "markdown",
   "id": "2c4f06c9",
   "metadata": {},
   "source": [
    "- [expression for item in iterable if 條件式]"
   ]
  },
  {
   "cell_type": "code",
   "execution_count": 7,
   "id": "9bc454e7",
   "metadata": {},
   "outputs": [
    {
     "data": {
      "text/plain": [
       "[2, 6, 10, 14, 18]"
      ]
     },
     "execution_count": 7,
     "metadata": {},
     "output_type": "execute_result"
    }
   ],
   "source": [
    "[i*2 for i in range(1,11) if i % 2 ==1]"
   ]
  },
  {
   "cell_type": "markdown",
   "id": "3983a6de",
   "metadata": {},
   "source": [
    "### map(), filter"
   ]
  },
  {
   "cell_type": "code",
   "execution_count": 10,
   "id": "dda2b66e",
   "metadata": {},
   "outputs": [
    {
     "data": {
      "text/plain": [
       "{'姓名': '曾XX', 'age': 45, 'score': 256}"
      ]
     },
     "execution_count": 10,
     "metadata": {},
     "output_type": "execute_result"
    }
   ],
   "source": [
    "{'姓名':'曾XX', 'age':45, 'score':256}\n"
   ]
  },
  {
   "cell_type": "code",
   "execution_count": null,
   "id": "d75d2f33",
   "metadata": {},
   "outputs": [
    {
     "data": {
      "text/plain": [
       "[{'姓名': '曾XX', 'age': 45, 'score': 256},\n",
       " {'姓名': '張XX', 'age': 42, 'score': 277},\n",
       " {'姓名': '李XX', 'age': 28, 'score': 263}]"
      ]
     },
     "execution_count": 11,
     "metadata": {},
     "output_type": "execute_result"
    }
   ],
   "source": [
    "#記憶體內的表格資料\n",
    "students = [{'姓名':'曾XX', 'age':45, 'score':256},\n",
    "            {'姓名':'張XX', 'age':42, 'score':277},\n",
    "            {'姓名':'李XX', 'age':28, 'score':263}]\n",
    "students"
   ]
  },
  {
   "cell_type": "code",
   "execution_count": 12,
   "id": "42ab9a01",
   "metadata": {},
   "outputs": [
    {
     "name": "stdout",
     "output_type": "stream",
     "text": [
      "{'姓名': '曾XX', 'age': 45, 'score': 256}\n",
      "{'姓名': '張XX', 'age': 42, 'score': 277}\n",
      "{'姓名': '李XX', 'age': 28, 'score': 263}\n"
     ]
    }
   ],
   "source": [
    "for student in students:\n",
    "    print(student)"
   ]
  },
  {
   "cell_type": "code",
   "execution_count": 13,
   "id": "b7d53094",
   "metadata": {},
   "outputs": [],
   "source": [
    "students = [\n",
    "    {\"name\": \"Alice\", \"Chinese\": 85, \"English\": 92, \"Math\": 78},\n",
    "    {\"name\": \"Bob\", \"Chinese\": 75, \"English\": 88, \"Math\": 90},\n",
    "    {\"name\": \"Charlie\", \"Chinese\": 90, \"English\": 85, \"Math\": 85},\n",
    "    {\"name\": \"David\", \"Chinese\": 60, \"English\": 70, \"Math\": 80},\n",
    "    {\"name\": \"Eva\", \"Chinese\": 95, \"English\": 98, \"Math\": 92},\n",
    "    {\"name\": \"Frank\", \"Chinese\": 70, \"English\": 75, \"Math\": 68},\n",
    "    {\"name\": \"Grace\", \"Chinese\": 88, \"English\": 82, \"Math\": 85},\n",
    "    {\"name\": \"Helen\", \"Chinese\": 92, \"English\": 90, \"Math\": 94},\n",
    "    {\"name\": \"Ian\", \"Chinese\": 78, \"English\": 80, \"Math\": 72},\n",
    "]"
   ]
  },
  {
   "cell_type": "code",
   "execution_count": 18,
   "id": "b0689122",
   "metadata": {},
   "outputs": [
    {
     "name": "stdout",
     "output_type": "stream",
     "text": [
      "{'name': 'Alice', 'Chinese': 85, 'English': 92, 'Math': 78}\n",
      "{'name': 'Bob', 'Chinese': 75, 'English': 88, 'Math': 90}\n",
      "{'name': 'Charlie', 'Chinese': 90, 'English': 85, 'Math': 85}\n",
      "{'name': 'Eva', 'Chinese': 95, 'English': 98, 'Math': 92}\n",
      "{'name': 'Grace', 'Chinese': 88, 'English': 82, 'Math': 85}\n",
      "{'name': 'Helen', 'Chinese': 92, 'English': 90, 'Math': 94}\n",
      "{'name': 'Ian', 'Chinese': 78, 'English': 80, 'Math': 72}\n"
     ]
    }
   ],
   "source": [
    "for student in students:\n",
    "    if student['Chinese'] >= 75:\n",
    "        print(student)"
   ]
  },
  {
   "cell_type": "markdown",
   "id": "7979e543",
   "metadata": {},
   "source": [
    "### 使用comprehension的技巧"
   ]
  },
  {
   "cell_type": "code",
   "execution_count": 17,
   "id": "5f2a2e3a",
   "metadata": {},
   "outputs": [
    {
     "data": {
      "text/plain": [
       "[{'name': 'Alice', 'Chinese': 85, 'English': 92, 'Math': 78},\n",
       " {'name': 'Charlie', 'Chinese': 90, 'English': 85, 'Math': 85},\n",
       " {'name': 'Eva', 'Chinese': 95, 'English': 98, 'Math': 92},\n",
       " {'name': 'Grace', 'Chinese': 88, 'English': 82, 'Math': 85},\n",
       " {'name': 'Helen', 'Chinese': 92, 'English': 90, 'Math': 94}]"
      ]
     },
     "execution_count": 17,
     "metadata": {},
     "output_type": "execute_result"
    }
   ],
   "source": [
    "student_80 = [student for student in students if student['Chinese'] >= 80] #過濾\n",
    "student_80"
   ]
  },
  {
   "cell_type": "markdown",
   "id": "4ffa6596",
   "metadata": {},
   "source": [
    "### 使用filter()的技巧\n",
    "- 說明書\n",
    "     - filter(function, iterable)"
   ]
  },
  {
   "cell_type": "markdown",
   "id": "f19599fd",
   "metadata": {},
   "source": [
    "Python 的 `filter()` 函式是用來過濾可迭代物件（如列表、元組、字典等），只保留符合特定條件的元素，非常適合用來快速篩選資料[1][4][5]。\n",
    "\n",
    "## 基本語法\n",
    "\n",
    "```python\n",
    "filter(function, iterable)\n",
    "```\n",
    "- **function**：判斷函式，對可迭代物件中的每個元素進行判斷，若回傳 `True` 則保留該元素。\n",
    "- **iterable**：可迭代物件（如列表、元組等）。\n",
    "\n",
    "## 回傳值\n",
    "\n",
    "- **Python 2.x**：回傳列表。\n",
    "- **Python 3.x**：回傳迭代器（filter object），需用 `list()` 轉換為列表才能直接顯示或重複使用[1][4][7]。\n",
    "\n",
    "## 範例說明\n",
    "\n",
    "- **過濾偶數**\n",
    "\n",
    "```python\n",
    "def is_even(x):\n",
    "    return x % 2 == 0\n",
    "\n",
    "nums = [1, 2, 3, 4, 5, 6, 7, 8, 9, 10]\n",
    "even_nums = list(filter(is_even, nums))\n",
    "print(even_nums)  # 輸出：[2, 4, 6, 8, 10]\n",
    "```\n",
    "- **過濾字串**\n",
    "\n",
    "```python\n",
    "def is_string(x):\n",
    "    return isinstance(x, str)\n",
    "\n",
    "data = [1, 'a', 2, 'b', 3, 'c']\n",
    "strings = list(filter(is_string, data))\n",
    "print(strings)  # 輸出：['a', 'b', 'c']\n",
    "```\n",
    "- **搭配 lambda 函式**\n",
    "\n",
    "```python\n",
    "a = [1, 2, 3, 4, 5, 6, 7, 8, 9]\n",
    "b = filter(lambda x: x > 5, a)\n",
    "print(list(b))  # 輸出：[6, 7, 8, 9]\n",
    "```\n",
    "- **過濾字典列表**\n",
    "\n",
    "```python\n",
    "dict_list = [{'name': 'python', 'points': 10}, {'name': 'java', 'points': 8}]\n",
    "filtered = filter(lambda x: x['name'] == 'python', dict_list)\n",
    "print(list(filtered))  # 輸出：[{'name': 'python', 'points': 10}]\n",
    "```\n",
    "- **使用 None 過濾**\n",
    "\n",
    "當 `filter()` 的第一個參數為 `None` 時，會過濾掉所有在布林判斷下為 `False` 的元素（如空字串、0、None、空列表等）[2][5]。\n",
    "\n",
    "```python\n",
    "items = [11, False, 18, 21, \"\", 12, 34, 0, [], {}]\n",
    "filtered = filter(None, items)\n",
    "print(list(filtered))  # 輸出：[11, 18, 21, 12, 34]\n",
    "```\n",
    "\n",
    "## 注意事項\n",
    "\n",
    "- **迭代器只能使用一次**：`filter()` 回傳的迭代器在遍歷後就空了，若要重複使用，建議轉換成列表[4]。\n",
    "- **Python 2.x 和 3.x 差異**：Python 2.x 回傳列表，Python 3.x 回傳迭代器[1][4][7]。\n",
    "\n",
    "## 總結\n",
    "\n",
    "`filter()` 是 Python 中常用的高階函式，適合用來篩選序列中符合條件的元素，搭配 `list()` 可方便取得結果列表[5]。\n",
    "\n"
   ]
  },
  {
   "cell_type": "code",
   "execution_count": null,
   "id": "46feb1ee",
   "metadata": {},
   "outputs": [
    {
     "data": {
      "text/plain": [
       "[{'name': 'Alice', 'Chinese': 85, 'English': 92, 'Math': 78},\n",
       " {'name': 'Charlie', 'Chinese': 90, 'English': 85, 'Math': 85},\n",
       " {'name': 'Eva', 'Chinese': 95, 'English': 98, 'Math': 92},\n",
       " {'name': 'Grace', 'Chinese': 88, 'English': 82, 'Math': 85},\n",
       " {'name': 'Helen', 'Chinese': 92, 'English': 90, 'Math': 94}]"
      ]
     },
     "execution_count": 24,
     "metadata": {},
     "output_type": "execute_result"
    }
   ],
   "source": [
    "#def is_even(n):\n",
    "def chinese_greater_80(student):\n",
    "    if student['Chinese'] >= 80:\n",
    "        return student\n",
    "    \n",
    "\n",
    "list(filter(chinese_greater_80, students))"
   ]
  },
  {
   "cell_type": "markdown",
   "id": "76cd73ba",
   "metadata": {},
   "source": [
    "Python 的 `lambda` 是一種匿名函式（anonymous function），用於快速定義簡單、單行的函式，通常會搭配 `map()`、`filter()`、`sorted()` 等高階函數使用[1][3][7]。\n",
    "\n",
    "## 基本語法\n",
    "\n",
    "```python\n",
    "lambda 參數1, 參數2, ...: 運算式\n",
    "```\n",
    "\n",
    "- **lambda**：關鍵字，用來宣告匿名函式。\n",
    "- **參數1, 參數2, ...**：函式的輸入參數，可以有多個。\n",
    "- **運算式**：函式主體，只能有一行，執行後自動回傳結果[1][3][7]。\n",
    "\n",
    "## 範例說明\n",
    "\n",
    "- **基本加法**\n",
    "\n",
    "```python\n",
    "add = lambda x, y: x + y\n",
    "print(add(3, 4))  # 輸出：7\n",
    "```\n",
    "- **搭配高階函數**\n",
    "\n",
    "```python\n",
    "numbers = [1, 2, 3, 4, 5]\n",
    "doubled = list(map(lambda x: x * 2, numbers))\n",
    "print(doubled)  # 輸出：[2, 4, 6, 8, 10]\n",
    "```\n",
    "- **搭配 filter**\n",
    "\n",
    "```python\n",
    "a = [1, 2, 3, 4, 5, 6, 7, 8, 9]\n",
    "b = filter(lambda x: x > 5, a)\n",
    "print(list(b))  # 輸出：[6, 7, 8, 9]\n",
    "```\n",
    "- **搭配 sorted**\n",
    "\n",
    "```python\n",
    "a = [[1, 2], [4, 3], [5, 1]]\n",
    "b = sorted(a, key=lambda x: x[1])\n",
    "print(b)  # 輸出：[[5, 1], [1, 2], [4, 3]]\n",
    "```\n",
    "\n",
    "## 注意事項\n",
    "\n",
    "- **只能有一行運算式**：lambda 函式不能有多行，適合簡單邏輯[1][3][7]。\n",
    "- **自動回傳結果**：不需要寫 return，運算式計算後會自動回傳[1][3]。\n",
    "- **可賦值給變數**：lambda 函式可以賦值給變數，但通常直接傳遞給其他函式作為參數[1][5]。\n",
    "- **適合小型任務**：複雜邏輯建議用一般函式（def）定義，提升可讀性[1][5]。\n",
    "\n",
    "## 總結\n",
    "\n",
    "lambda 匿名函式讓程式碼更簡潔，特別適合搭配高階函數或需要臨時定義一個小函式時使用[1][3][7]。\n",
    "\n"
   ]
  },
  {
   "cell_type": "code",
   "execution_count": 30,
   "id": "7523677b",
   "metadata": {},
   "outputs": [
    {
     "data": {
      "text/plain": [
       "[{'name': 'Alice', 'Chinese': 85, 'English': 92, 'Math': 78},\n",
       " {'name': 'Charlie', 'Chinese': 90, 'English': 85, 'Math': 85},\n",
       " {'name': 'Eva', 'Chinese': 95, 'English': 98, 'Math': 92},\n",
       " {'name': 'Grace', 'Chinese': 88, 'English': 82, 'Math': 85},\n",
       " {'name': 'Helen', 'Chinese': 92, 'English': 90, 'Math': 94}]"
      ]
     },
     "execution_count": 30,
     "metadata": {},
     "output_type": "execute_result"
    }
   ],
   "source": [
    "\n",
    "list(filter(lambda student:student if student['Chinese'] >= 80 else None, students))\n"
   ]
  }
 ],
 "metadata": {
  "kernelspec": {
   "display_name": "base",
   "language": "python",
   "name": "python3"
  },
  "language_info": {
   "codemirror_mode": {
    "name": "ipython",
    "version": 3
   },
   "file_extension": ".py",
   "mimetype": "text/x-python",
   "name": "python",
   "nbconvert_exporter": "python",
   "pygments_lexer": "ipython3",
   "version": "3.12.7"
  }
 },
 "nbformat": 4,
 "nbformat_minor": 5
}

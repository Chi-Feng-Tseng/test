{
 "cells": [
  {
   "cell_type": "code",
   "execution_count": null,
   "id": "3ba6b4ec",
   "metadata": {},
   "outputs": [],
   "source": [
    "### list_comprehension(快速建立list)\n",
    "- [expression for item in iterable]"
   ]
  },
  {
   "cell_type": "code",
   "execution_count": 4,
   "id": "a1dd1b71",
   "metadata": {},
   "outputs": [
    {
     "name": "stdout",
     "output_type": "stream",
     "text": [
      "1\n",
      "2\n",
      "3\n",
      "4\n",
      "5\n",
      "6\n",
      "7\n",
      "8\n",
      "9\n",
      "10\n"
     ]
    }
   ],
   "source": [
    "for i in range(1,11):\n",
    "    print(i)"
   ]
  },
  {
   "cell_type": "code",
   "execution_count": 5,
   "id": "76a32113",
   "metadata": {},
   "outputs": [
    {
     "data": {
      "text/plain": [
       "[1, 2, 3, 4, 5, 6, 7, 8, 9, 10]"
      ]
     },
     "execution_count": 5,
     "metadata": {},
     "output_type": "execute_result"
    }
   ],
   "source": [
    "[i for i in range(1,11)]"
   ]
  },
  {
   "cell_type": "code",
   "execution_count": 6,
   "id": "fdc5f1fb",
   "metadata": {},
   "outputs": [
    {
     "data": {
      "text/plain": [
       "[2, 4, 6, 8, 10, 12, 14, 16, 18, 20]"
      ]
     },
     "execution_count": 6,
     "metadata": {},
     "output_type": "execute_result"
    }
   ],
   "source": [
    "[i*2 for i in range(1,11)]"
   ]
  },
  {
   "cell_type": "markdown",
   "id": "2c4f06c9",
   "metadata": {},
   "source": [
    "- [expression for item in iterable if 條件式]"
   ]
  },
  {
   "cell_type": "code",
   "execution_count": 7,
   "id": "9bc454e7",
   "metadata": {},
   "outputs": [
    {
     "data": {
      "text/plain": [
       "[2, 6, 10, 14, 18]"
      ]
     },
     "execution_count": 7,
     "metadata": {},
     "output_type": "execute_result"
    }
   ],
   "source": [
    "[i*2 for i in range(1,11) if i % 2 ==1]"
   ]
  },
  {
   "cell_type": "markdown",
   "id": "3983a6de",
   "metadata": {},
   "source": [
    "### map(), filter"
   ]
  },
  {
   "cell_type": "code",
   "execution_count": 10,
   "id": "dda2b66e",
   "metadata": {},
   "outputs": [
    {
     "data": {
      "text/plain": [
       "{'姓名': '曾XX', 'age': 45, 'score': 256}"
      ]
     },
     "execution_count": 10,
     "metadata": {},
     "output_type": "execute_result"
    }
   ],
   "source": [
    "{'姓名':'曾XX', 'age':45, 'score':256}\n"
   ]
  },
  {
   "cell_type": "code",
   "execution_count": null,
   "id": "d75d2f33",
   "metadata": {},
   "outputs": [
    {
     "data": {
      "text/plain": [
       "[{'姓名': '曾XX', 'age': 45, 'score': 256},\n",
       " {'姓名': '張XX', 'age': 42, 'score': 277},\n",
       " {'姓名': '李XX', 'age': 28, 'score': 263}]"
      ]
     },
     "execution_count": 11,
     "metadata": {},
     "output_type": "execute_result"
    }
   ],
   "source": [
    "#記憶體內的表格資料\n",
    "students = [{'姓名':'曾XX', 'age':45, 'score':256},\n",
    "            {'姓名':'張XX', 'age':42, 'score':277},\n",
    "            {'姓名':'李XX', 'age':28, 'score':263}]\n",
    "students"
   ]
  },
  {
   "cell_type": "code",
   "execution_count": 12,
   "id": "42ab9a01",
   "metadata": {},
   "outputs": [
    {
     "name": "stdout",
     "output_type": "stream",
     "text": [
      "{'姓名': '曾XX', 'age': 45, 'score': 256}\n",
      "{'姓名': '張XX', 'age': 42, 'score': 277}\n",
      "{'姓名': '李XX', 'age': 28, 'score': 263}\n"
     ]
    }
   ],
   "source": [
    "for student in students:\n",
    "    print(student)"
   ]
  }
 ],
 "metadata": {
  "kernelspec": {
   "display_name": "base",
   "language": "python",
   "name": "python3"
  },
  "language_info": {
   "codemirror_mode": {
    "name": "ipython",
    "version": 3
   },
   "file_extension": ".py",
   "mimetype": "text/x-python",
   "name": "python",
   "nbconvert_exporter": "python",
   "pygments_lexer": "ipython3",
   "version": "3.12.7"
  }
 },
 "nbformat": 4,
 "nbformat_minor": 5
}

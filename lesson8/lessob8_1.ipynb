{
 "cells": [
  {
   "cell_type": "markdown",
   "id": "9d9bdb65",
   "metadata": {},
   "source": [
    "### tuple\n",
    "- immutable(不可變的變數)\n",
    "- Sequence(串列資料)\n",
    "- iterable(可重複讀取)\n",
    "- 拆解法\n",
    "- 可用括號符號建立\n",
    "- typenhint(tuple)"
   ]
  },
  {
   "cell_type": "markdown",
   "id": "aebfa2cb",
   "metadata": {},
   "source": []
  },
  {
   "cell_type": "code",
   "execution_count": 1,
   "id": "30a27318",
   "metadata": {},
   "outputs": [
    {
     "name": "stdout",
     "output_type": "stream",
     "text": [
      "robert\n",
      "49\n"
     ]
    }
   ],
   "source": [
    "# 拆解法\n",
    "name, age = 'robert', 49\n",
    "print(name)\n",
    "print(age)"
   ]
  },
  {
   "cell_type": "markdown",
   "id": "e7e1a184",
   "metadata": {},
   "source": [
    "### list\n",
    "- mutable(可變的變數)\n",
    "- Sequence(串列資料)\n",
    "- iterable(可重複讀取)\n",
    "- 用中括號符號[]來建立\n",
    "- typenhint(list)"
   ]
  },
  {
   "cell_type": "code",
   "execution_count": null,
   "id": "6fac087f",
   "metadata": {},
   "outputs": [
    {
     "data": {
      "text/plain": [
       "list"
      ]
     },
     "execution_count": 3,
     "metadata": {},
     "output_type": "execute_result"
    }
   ],
   "source": [
    "# 建立list\n",
    "weekdays = ['星期一', '星期二', '星期三', '星期四', '星期五', '星期六', '星期日']\n",
    "type(weekdays)\n"
   ]
  },
  {
   "cell_type": "code",
   "execution_count": 4,
   "id": "31823a4d",
   "metadata": {},
   "outputs": [
    {
     "data": {
      "text/plain": [
       "'星期日'"
      ]
     },
     "execution_count": 4,
     "metadata": {},
     "output_type": "execute_result"
    }
   ],
   "source": [
    "# 取出元素和修改元素\n",
    "# 使用[index]\n",
    "weekdays[0]\n",
    "weekdays[1]\n",
    "weekdays[-2]\n",
    "weekdays[-1]"
   ]
  },
  {
   "cell_type": "code",
   "execution_count": null,
   "id": "3f183146",
   "metadata": {},
   "outputs": [
    {
     "data": {
      "text/plain": [
       "['星期五', '星期六']"
      ]
     },
     "execution_count": 9,
     "metadata": {},
     "output_type": "execute_result"
    }
   ],
   "source": [
    "#[slice]\n",
    "#[起始(包含):結束(不包含)]\n",
    "\n",
    "weekdays[0:3]\n",
    "weekdays[-3:-1]\n",
    "weekdays[-3:]  #取後三個\n",
    "weekdays[:3]  #取前三個"
   ]
  }
 ],
 "metadata": {
  "kernelspec": {
   "display_name": "base",
   "language": "python",
   "name": "python3"
  },
  "language_info": {
   "codemirror_mode": {
    "name": "ipython",
    "version": 3
   },
   "file_extension": ".py",
   "mimetype": "text/x-python",
   "name": "python",
   "nbconvert_exporter": "python",
   "pygments_lexer": "ipython3",
   "version": "3.12.7"
  }
 },
 "nbformat": 4,
 "nbformat_minor": 5
}

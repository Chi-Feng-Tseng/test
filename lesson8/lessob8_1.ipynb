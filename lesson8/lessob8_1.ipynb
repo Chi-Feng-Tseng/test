{
 "cells": [
  {
   "cell_type": "markdown",
   "id": "9d9bdb65",
   "metadata": {},
   "source": [
    "### tuple\n",
    "- immutable(不可變的變數)\n",
    "- Sequence(串列資料)\n",
    "- iterable(可重複讀取)\n",
    "- 拆解法\n",
    "- 可用小括號符號建立\n",
    "- typenhint(tuple)"
   ]
  },
  {
   "cell_type": "markdown",
   "id": "aebfa2cb",
   "metadata": {},
   "source": []
  },
  {
   "cell_type": "code",
   "execution_count": 1,
   "id": "30a27318",
   "metadata": {},
   "outputs": [
    {
     "name": "stdout",
     "output_type": "stream",
     "text": [
      "robert\n",
      "49\n",
      "robert 49\n"
     ]
    }
   ],
   "source": [
    "# 拆解法\n",
    "name, age = 'robert', 49\n",
    "print(name)\n",
    "print(age)\n",
    "print(name, age)"
   ]
  },
  {
   "cell_type": "markdown",
   "id": "e7e1a184",
   "metadata": {},
   "source": [
    "### list\n",
    "- mutable(可變的變數)\n",
    "- Sequence(串列資料)\n",
    "- iterable(可重複讀取)\n",
    "- 用中括號符號[]來建立\n",
    "- typenhint(list)"
   ]
  },
  {
   "cell_type": "code",
   "execution_count": 4,
   "id": "6fac087f",
   "metadata": {},
   "outputs": [
    {
     "data": {
      "text/plain": [
       "list"
      ]
     },
     "execution_count": 4,
     "metadata": {},
     "output_type": "execute_result"
    }
   ],
   "source": [
    "# 建立list\n",
    "#索引編號：     0         1        2          3        4        5         6\n",
    "weekdays = ['星期一', '星期二', '星期三', '星期四', '星期五', '星期六', '星期日']\n",
    "#              -7       -6       -5        -4       -3        -2       -1                                                \n",
    "type(weekdays)\n"
   ]
  },
  {
   "cell_type": "code",
   "execution_count": 8,
   "id": "31823a4d",
   "metadata": {},
   "outputs": [
    {
     "data": {
      "text/plain": [
       "'星期日'"
      ]
     },
     "execution_count": 8,
     "metadata": {},
     "output_type": "execute_result"
    }
   ],
   "source": [
    "# 取出元素和修改元素\n",
    "# 使用[index]\n",
    "weekdays[0]\n",
    "weekdays[1]\n",
    "weekdays[-2]\n",
    "weekdays[-1]"
   ]
  },
  {
   "cell_type": "code",
   "execution_count": 12,
   "id": "3f183146",
   "metadata": {},
   "outputs": [
    {
     "data": {
      "text/plain": [
       "['星期一', '星期二', '星期三']"
      ]
     },
     "execution_count": 12,
     "metadata": {},
     "output_type": "execute_result"
    }
   ],
   "source": [
    "#[slice]\n",
    "#[起始(包含):結束(不包含)]\n",
    "\n",
    "weekdays[0:3] \n",
    "weekdays[-3:-1]  #取倒數第三個到 倒數第二個 (結束的不能算)\n",
    "weekdays[-3:]  #取後三個\n",
    "weekdays[:3]  #取前三個"
   ]
  },
  {
   "cell_type": "code",
   "execution_count": 11,
   "id": "3026e191",
   "metadata": {},
   "outputs": [
    {
     "name": "stdout",
     "output_type": "stream",
     "text": [
      "星期一\n",
      "星期二\n",
      "星期三\n",
      "星期四\n",
      "星期五\n",
      "星期六\n",
      "星期日\n"
     ]
    }
   ],
   "source": [
    "for day in weekdays:\n",
    "    print(day)"
   ]
  },
  {
   "cell_type": "markdown",
   "id": "2b226a18",
   "metadata": {},
   "source": [
    "### dictionary\n",
    "- mutable(可變的變數)\n",
    "- Mapping(Mapping資料)\n",
    "- iterable(可重複讀取)\n",
    "- 用大括號符號{}來建立\n",
    "- typenhint(dict)"
   ]
  },
  {
   "cell_type": "code",
   "execution_count": 12,
   "id": "ce8354ae",
   "metadata": {},
   "outputs": [
    {
     "data": {
      "text/plain": [
       "{'tw': 'Taiwan', 'jp': 'Japan', 'hk': 'Hong Kong'}"
      ]
     },
     "execution_count": 12,
     "metadata": {},
     "output_type": "execute_result"
    }
   ],
   "source": [
    "codes = {\"tw\":\"Taiwan\", \"jp\":\"Japan\", \"hk\":\"Hong Kong\"}\n",
    "codes"
   ]
  },
  {
   "cell_type": "code",
   "execution_count": 13,
   "id": "b3a1fc6f",
   "metadata": {},
   "outputs": [
    {
     "data": {
      "text/plain": [
       "'Taiwan'"
      ]
     },
     "execution_count": 13,
     "metadata": {},
     "output_type": "execute_result"
    }
   ],
   "source": [
    "codes['tw']"
   ]
  },
  {
   "cell_type": "code",
   "execution_count": 14,
   "id": "7d12f4f5",
   "metadata": {},
   "outputs": [
    {
     "name": "stdout",
     "output_type": "stream",
     "text": [
      "tw\n",
      "Taiwan\n",
      "===========\n",
      "jp\n",
      "Japan\n",
      "===========\n",
      "hk\n",
      "Hong Kong\n",
      "===========\n"
     ]
    }
   ],
   "source": [
    "for key in codes:\n",
    "    print(key)\n",
    "    print(codes[key])\n",
    "    print(\"===========\")"
   ]
  },
  {
   "cell_type": "markdown",
   "id": "afd18e5c",
   "metadata": {},
   "source": [
    "### set\n",
    "- 元素不可以重複\n",
    "- 符號建立方式大括號{}"
   ]
  },
  {
   "cell_type": "code",
   "execution_count": 15,
   "id": "2db91989",
   "metadata": {},
   "outputs": [
    {
     "data": {
      "text/plain": [
       "{'台中', '台北', '高雄'}"
      ]
     },
     "execution_count": 15,
     "metadata": {},
     "output_type": "execute_result"
    }
   ],
   "source": [
    "#set\n",
    "citys = {'台北', '台中', '高雄', '台北', '台中', '高雄'}\n",
    "citys"
   ]
  }
 ],
 "metadata": {
  "kernelspec": {
   "display_name": "python2_4",
   "language": "python",
   "name": "python3"
  },
  "language_info": {
   "codemirror_mode": {
    "name": "ipython",
    "version": 3
   },
   "file_extension": ".py",
   "mimetype": "text/x-python",
   "name": "python",
   "nbconvert_exporter": "python",
   "pygments_lexer": "ipython3",
   "version": "3.11.13"
  }
 },
 "nbformat": 4,
 "nbformat_minor": 5
}

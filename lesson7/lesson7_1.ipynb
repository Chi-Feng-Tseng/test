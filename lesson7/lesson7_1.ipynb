{
 "cells": [
  {
   "cell_type": "markdown",
   "id": "b11b5415",
   "metadata": {},
   "source": [
    "\n",
    "function的呼叫方式"
   ]
  },
  {
   "cell_type": "markdown",
   "id": "7afdf2ee",
   "metadata": {},
   "source": [
    "引數值的呼叫\n",
    "要依照參數的順序"
   ]
  },
  {
   "cell_type": "code",
   "execution_count": 6,
   "id": "e912da3a",
   "metadata": {},
   "outputs": [],
   "source": [
    "def menu(wine, entree, dessert):\n",
    "    print(f\"前酒:{wine}\")\n",
    "    print(f\"主餐:{entree}\")\n",
    "    print(f'甜點:{dessert}')"
   ]
  },
  {
   "cell_type": "code",
   "execution_count": 7,
   "id": "4eebaac7",
   "metadata": {},
   "outputs": [
    {
     "name": "stdout",
     "output_type": "stream",
     "text": [
      "前酒:白酒\n",
      "主餐:牛排\n",
      "甜點:蛋糕\n"
     ]
    }
   ],
   "source": [
    "#引數值的呼叫\n",
    "menu('白酒', '牛排', '蛋糕')"
   ]
  },
  {
   "cell_type": "markdown",
   "id": "36b42530",
   "metadata": {},
   "source": [
    "引數名稱的呼叫\n",
    "- 使用參數的名稱當作引數名稱\n",
    "- 可以不依照參數的順序"
   ]
  },
  {
   "cell_type": "code",
   "execution_count": null,
   "id": "8f1915ff",
   "metadata": {},
   "outputs": [],
   "source": [
    "def menu(wine, entree, dessert):\n",
    "    print(f\"前酒:{wine}\")\n",
    "    print(f\"主餐:{entree}\")\n",
    "    print(f'甜點:{dessert}')\n",
    "\n"
   ]
  },
  {
   "cell_type": "code",
   "execution_count": 10,
   "id": "cdd98073",
   "metadata": {},
   "outputs": [
    {
     "name": "stdout",
     "output_type": "stream",
     "text": [
      "前酒:白酒\n",
      "主餐:牛排\n",
      "甜點:蛋糕\n"
     ]
    }
   ],
   "source": [
    "menu(wine='白酒',entree='牛排',dessert='蛋糕')"
   ]
  },
  {
   "cell_type": "code",
   "execution_count": 5,
   "id": "40496c3d",
   "metadata": {},
   "outputs": [
    {
     "name": "stdout",
     "output_type": "stream",
     "text": [
      "前酒:白酒\n",
      "主餐:牛排\n",
      "甜點:蛋糕\n"
     ]
    }
   ],
   "source": [
    "menu(entree='牛排',dessert='蛋糕',wine='白酒')"
   ]
  },
  {
   "cell_type": "markdown",
   "id": "00b85553",
   "metadata": {},
   "source": [
    "### 混和呼叫\n",
    "- 前面一定先用引數值(位置) , 後面引數名稱呼叫\n",
    "- 使用引數名稱呼叫後 , 後面全部要使用引數名稱呼叫"
   ]
  },
  {
   "cell_type": "code",
   "execution_count": 12,
   "id": "827a3627",
   "metadata": {},
   "outputs": [],
   "source": [
    "def menu(wine, entree, dessert):\n",
    "    print(f\"前酒:{wine}\")\n",
    "    print(f\"主餐:{entree}\")\n",
    "    print(f'甜點:{dessert}')"
   ]
  },
  {
   "cell_type": "code",
   "execution_count": 13,
   "id": "83b99372",
   "metadata": {},
   "outputs": [
    {
     "name": "stdout",
     "output_type": "stream",
     "text": [
      "前酒:白酒\n",
      "主餐:牛排\n",
      "甜點:蛋糕\n"
     ]
    }
   ],
   "source": [
    "menu('白酒',entree='牛排',dessert='蛋糕')"
   ]
  },
  {
   "cell_type": "code",
   "execution_count": 17,
   "id": "f2dcde8e",
   "metadata": {},
   "outputs": [
    {
     "name": "stdout",
     "output_type": "stream",
     "text": [
      "前酒:白酒\n",
      "主餐:牛排\n",
      "甜點:蛋糕\n"
     ]
    }
   ],
   "source": [
    "menu('白酒',dessert='蛋糕',entree='牛排')"
   ]
  },
  {
   "cell_type": "markdown",
   "id": "f73ee1d8",
   "metadata": {},
   "source": [
    "### 定義參數時, 指定參數的預設值\n",
    "- 有預設值的參數, 一定要定義在最後面"
   ]
  },
  {
   "cell_type": "code",
   "execution_count": null,
   "id": "8146de20",
   "metadata": {},
   "outputs": [],
   "source": [
    "def menu(wine, entree, dessert='奶昔'):  #參數預設奶昔，且須放在最後面\n",
    "    print(f\"前酒:{wine}\")\n",
    "    print(f\"主餐:{entree}\")\n",
    "    print(f'甜點:{dessert}')"
   ]
  },
  {
   "cell_type": "markdown",
   "id": "4d8617d2",
   "metadata": {},
   "source": [
    "### 呼叫時可以省略有預設值的參數"
   ]
  },
  {
   "cell_type": "code",
   "execution_count": 21,
   "id": "4f50f054",
   "metadata": {},
   "outputs": [
    {
     "name": "stdout",
     "output_type": "stream",
     "text": [
      "前酒:紅酒\n",
      "主餐:牛排\n",
      "甜點:奶昔\n"
     ]
    }
   ],
   "source": [
    "menu('紅酒', '牛排')"
   ]
  },
  {
   "cell_type": "markdown",
   "id": "a1ee46bd",
   "metadata": {},
   "source": [
    "### 呼叫時可以取代有預設值的參數"
   ]
  },
  {
   "cell_type": "code",
   "execution_count": 20,
   "id": "44fbef33",
   "metadata": {},
   "outputs": [
    {
     "name": "stdout",
     "output_type": "stream",
     "text": [
      "前酒:紅酒\n",
      "主餐:牛排\n",
      "甜點:蛋糕\n"
     ]
    }
   ],
   "source": [
    "menu('紅酒', '牛排',dessert='蛋糕')"
   ]
  },
  {
   "cell_type": "markdown",
   "id": "3cfe1108",
   "metadata": {},
   "source": [
    " ### *參數名稱\n",
    " - 沒有限定數量的引數值得呼叫, 也可以0個引數值\n",
    " - 大部分在前面\n",
    " - 參數名稱可以任意定義"
   ]
  },
  {
   "cell_type": "code",
   "execution_count": 22,
   "id": "0cbd3aa9",
   "metadata": {},
   "outputs": [],
   "source": [
    "def print_args(*args):\n",
    "    #args是tuple\n",
    "    print(args)"
   ]
  },
  {
   "cell_type": "code",
   "execution_count": null,
   "id": "9dd8126b",
   "metadata": {},
   "outputs": [
    {
     "data": {
      "text/plain": [
       "(1, 3, 5, 7, 9)"
      ]
     },
     "execution_count": 23,
     "metadata": {},
     "output_type": "execute_result"
    }
   ],
   "source": [
    "#tuple是把一組數值包在一起, 使用小括號()\n",
    "(1,3,5,7,9)"
   ]
  },
  {
   "cell_type": "code",
   "execution_count": 25,
   "id": "159cec0a",
   "metadata": {},
   "outputs": [
    {
     "name": "stdout",
     "output_type": "stream",
     "text": [
      "('a', 'b', 'c', 1, 2, 3, True, False)\n"
     ]
    }
   ],
   "source": [
    "print_args(\"a\",'b','c',1, 2, 3, True, False)"
   ]
  },
  {
   "cell_type": "markdown",
   "id": "66b0644a",
   "metadata": {},
   "source": [
    "### **參數名稱\n",
    "- 大部份放在最後面\n",
    "- 沒有限定數量的引數名稱呼叫, 沒有限定數量代表可以0個"
   ]
  },
  {
   "cell_type": "code",
   "execution_count": 28,
   "id": "c2d683a8",
   "metadata": {},
   "outputs": [],
   "source": [
    "def print_kwargs(**kwargs):\n",
    "    #kwargs是dictionary\n",
    "    print(kwargs)"
   ]
  },
  {
   "cell_type": "code",
   "execution_count": 29,
   "id": "2592263b",
   "metadata": {},
   "outputs": [
    {
     "name": "stdout",
     "output_type": "stream",
     "text": [
      "{'one': 1, 'two': 2, 'three': 3, 'four': 4, 'five': 5}\n"
     ]
    }
   ],
   "source": [
    "print_kwargs(one=1, two=2,three=3,four=4,five=5)"
   ]
  },
  {
   "cell_type": "markdown",
   "id": "9d32e470",
   "metadata": {},
   "source": [
    "### 混和*args, **kwargs"
   ]
  },
  {
   "cell_type": "code",
   "execution_count": 30,
   "id": "bc1baefd",
   "metadata": {},
   "outputs": [],
   "source": [
    "def print_mixed(*args, **kwargs):\n",
    "    print(args)\n",
    "    print(kwargs)"
   ]
  },
  {
   "cell_type": "code",
   "execution_count": 31,
   "id": "eeb7eb2a",
   "metadata": {},
   "outputs": [
    {
     "name": "stdout",
     "output_type": "stream",
     "text": [
      "('a', 'b', 'c', 1, 2, 3, True, False)\n",
      "{'one': 1, 'two': 2, 'three': 3, 'four': 4}\n"
     ]
    }
   ],
   "source": [
    "print_mixed(\"a\",'b','c',1, 2, 3, True, False,\n",
    "            one=1,\n",
    "            two=2,\n",
    "            three=3,\n",
    "            four=4)"
   ]
  }
 ],
 "metadata": {
  "kernelspec": {
   "display_name": "base",
   "language": "python",
   "name": "python3"
  },
  "language_info": {
   "codemirror_mode": {
    "name": "ipython",
    "version": 3
   },
   "file_extension": ".py",
   "mimetype": "text/x-python",
   "name": "python",
   "nbconvert_exporter": "python",
   "pygments_lexer": "ipython3",
   "version": "3.12.7"
  }
 },
 "nbformat": 4,
 "nbformat_minor": 5
}

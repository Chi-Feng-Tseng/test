{
 "cells": [
  {
   "cell_type": "markdown",
   "id": "db055f19",
   "metadata": {},
   "source": [
    "print(*objects, sep=' ', end='\\n', file=None, flush=False)"
   ]
  },
  {
   "cell_type": "code",
   "execution_count": 1,
   "id": "47ab2449",
   "metadata": {},
   "outputs": [
    {
     "name": "stdout",
     "output_type": "stream",
     "text": [
      "1 3 5 a b c結束\n"
     ]
    }
   ],
   "source": [
    "print(1,3,5,'a','b','c',end='結束\\n')"
   ]
  },
  {
   "cell_type": "code",
   "execution_count": 2,
   "id": "b331b7b7",
   "metadata": {},
   "outputs": [
    {
     "name": "stdout",
     "output_type": "stream",
     "text": [
      "1-3-5-a-b-c結束\n"
     ]
    }
   ],
   "source": [
    "print(1,3,5,'a','b','c',end='結束\\n',sep='-')"
   ]
  }
 ],
 "metadata": {
  "kernelspec": {
   "display_name": "base",
   "language": "python",
   "name": "python3"
  },
  "language_info": {
   "codemirror_mode": {
    "name": "ipython",
    "version": 3
   },
   "file_extension": ".py",
   "mimetype": "text/x-python",
   "name": "python",
   "nbconvert_exporter": "python",
   "pygments_lexer": "ipython3",
   "version": "3.12.7"
  }
 },
 "nbformat": 4,
 "nbformat_minor": 5
}

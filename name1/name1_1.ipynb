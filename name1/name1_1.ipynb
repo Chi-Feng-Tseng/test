{
 "cells": [
  {
   "cell_type": "code",
   "execution_count": 28,
   "id": "09a1bde6",
   "metadata": {},
   "outputs": [
    {
     "name": "stdout",
     "output_type": "stream",
     "text": [
      "隨機抽取:7 位\n",
      "['劉昀天', '鄭琇亞', '劉林中', '林淑安', '白美珍', '黃佩玲', '林佳慧']\n",
      "抽取結束\n"
     ]
    }
   ],
   "source": [
    "import random\n",
    "\n",
    "file = open(\"names.txt\",encoding='utf-8')\n",
    "contents:list[str] = file.readlines()\n",
    "file.close()\n",
    "names:list[str] = [name.strip() for name in contents]\n",
    "\n",
    "\n",
    "random_name = int(input(\"請輸入抽取數量:\"))\n",
    "print(f\"隨機抽取:{random_name} 位\")\n",
    "sample = random.sample(names, random_name)\n",
    "print(sample)\n",
    "\n",
    "print(\"抽取結束\")\n"
   ]
  }
 ],
 "metadata": {
  "kernelspec": {
   "display_name": "base",
   "language": "python",
   "name": "python3"
  },
  "language_info": {
   "codemirror_mode": {
    "name": "ipython",
    "version": 3
   },
   "file_extension": ".py",
   "mimetype": "text/x-python",
   "name": "python",
   "nbconvert_exporter": "python",
   "pygments_lexer": "ipython3",
   "version": "3.12.7"
  }
 },
 "nbformat": 4,
 "nbformat_minor": 5
}

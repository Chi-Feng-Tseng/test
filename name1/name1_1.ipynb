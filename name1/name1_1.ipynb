{
 "cells": [
  {
   "cell_type": "code",
   "execution_count": 4,
   "id": "09a1bde6",
   "metadata": {},
   "outputs": [
    {
     "name": "stdout",
     "output_type": "stream",
     "text": [
      "隨機抽取:4 位\n",
      "['游一鈺', '柯宜臻', '朱士弘', '李立偉']\n",
      "抽取結束\n"
     ]
    }
   ],
   "source": [
    "import random\n",
    "\n",
    "file = open(\"names.txt\",encoding='utf-8')\n",
    "contents:list[str] = file.readlines()\n",
    "file.close()\n",
    "names:list[str] = [name.strip() for name in contents]\n",
    "\n",
    "\n",
    "random_name = int(input(\"請輸入抽取數量:\"))\n",
    "print(f\"隨機抽取:{random_name} 位\")\n",
    "sample = random.sample(names, random_name)\n",
    "print(sample)\n",
    "\n",
    "print(\"抽取結束\")\n"
   ]
  },
  {
   "cell_type": "code",
   "execution_count": null,
   "id": "bac5e26d",
   "metadata": {},
   "outputs": [
    {
     "name": "stdout",
     "output_type": "stream",
     "text": [
      "1.陳信宏\n",
      "2.張俊傑\n",
      "3.李慶亮\n"
     ]
    }
   ],
   "source": [
    "# 老師的解，在人名前面加上索引編號\n",
    "import random\n",
    "\n",
    "file = open(\"names.txt\",encoding='utf-8')\n",
    "contents:list[str] = file.readlines()\n",
    "file.close()\n",
    "names:list[str] = [name.strip() for name in contents]\n",
    "pick = int(input(\"請輸入所需要的姓名數量:\"));\n",
    "\n",
    "for idx, name in enumerate(random.sample(names, pick)):\n",
    "    print(f'{idx+1}.{name}')   #索引編號是從0開始排的，所以若要從1開始，則idx要+1"
   ]
  }
 ],
 "metadata": {
  "kernelspec": {
   "display_name": "base",
   "language": "python",
   "name": "python3"
  },
  "language_info": {
   "codemirror_mode": {
    "name": "ipython",
    "version": 3
   },
   "file_extension": ".py",
   "mimetype": "text/x-python",
   "name": "python",
   "nbconvert_exporter": "python",
   "pygments_lexer": "ipython3",
   "version": "3.12.7"
  }
 },
 "nbformat": 4,
 "nbformat_minor": 5
}
